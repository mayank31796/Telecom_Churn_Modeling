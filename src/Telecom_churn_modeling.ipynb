{
 "cells": [
  {
   "cell_type": "code",
   "execution_count": 1,
   "metadata": {},
   "outputs": [],
   "source": [
    "import pandas as pd\n",
    "import matplotlib.pyplot as plt\n",
    "import numpy as np\n",
    "import seaborn as sns\n",
    "import sklearn\n",
    "import pickle as pkl"
   ]
  },
  {
   "cell_type": "markdown",
   "metadata": {},
   "source": [
    "# Data Preparation"
   ]
  },
  {
   "cell_type": "code",
   "execution_count": 3,
   "metadata": {},
   "outputs": [],
   "source": [
    "data_path  = 'D:\\\\Git\\\\Telecom_Churn_Modeling\\\\Data\\\\Telecom_Customer_Churn.csv'\n",
    "churn_df = pd.read_csv(data_path)"
   ]
  },
  {
   "cell_type": "code",
   "execution_count": 4,
   "metadata": {},
   "outputs": [
    {
     "data": {
      "text/html": [
       "<div>\n",
       "<style scoped>\n",
       "    .dataframe tbody tr th:only-of-type {\n",
       "        vertical-align: middle;\n",
       "    }\n",
       "\n",
       "    .dataframe tbody tr th {\n",
       "        vertical-align: top;\n",
       "    }\n",
       "\n",
       "    .dataframe thead th {\n",
       "        text-align: right;\n",
       "    }\n",
       "</style>\n",
       "<table border=\"1\" class=\"dataframe\">\n",
       "  <thead>\n",
       "    <tr style=\"text-align: right;\">\n",
       "      <th></th>\n",
       "      <th>customerID</th>\n",
       "      <th>gender</th>\n",
       "      <th>SeniorCitizen</th>\n",
       "      <th>Partner</th>\n",
       "      <th>Dependents</th>\n",
       "      <th>tenure</th>\n",
       "      <th>PhoneService</th>\n",
       "      <th>MultipleLines</th>\n",
       "      <th>InternetService</th>\n",
       "      <th>OnlineSecurity</th>\n",
       "      <th>...</th>\n",
       "      <th>DeviceProtection</th>\n",
       "      <th>TechSupport</th>\n",
       "      <th>StreamingTV</th>\n",
       "      <th>StreamingMovies</th>\n",
       "      <th>Contract</th>\n",
       "      <th>PaperlessBilling</th>\n",
       "      <th>PaymentMethod</th>\n",
       "      <th>MonthlyCharges</th>\n",
       "      <th>TotalCharges</th>\n",
       "      <th>Churn</th>\n",
       "    </tr>\n",
       "  </thead>\n",
       "  <tbody>\n",
       "    <tr>\n",
       "      <td>0</td>\n",
       "      <td>7590-VHVEG</td>\n",
       "      <td>Female</td>\n",
       "      <td>0</td>\n",
       "      <td>Yes</td>\n",
       "      <td>No</td>\n",
       "      <td>1</td>\n",
       "      <td>No</td>\n",
       "      <td>No phone service</td>\n",
       "      <td>DSL</td>\n",
       "      <td>No</td>\n",
       "      <td>...</td>\n",
       "      <td>No</td>\n",
       "      <td>No</td>\n",
       "      <td>No</td>\n",
       "      <td>No</td>\n",
       "      <td>Month-to-month</td>\n",
       "      <td>Yes</td>\n",
       "      <td>Electronic check</td>\n",
       "      <td>29.85</td>\n",
       "      <td>29.85</td>\n",
       "      <td>No</td>\n",
       "    </tr>\n",
       "    <tr>\n",
       "      <td>1</td>\n",
       "      <td>5575-GNVDE</td>\n",
       "      <td>Male</td>\n",
       "      <td>0</td>\n",
       "      <td>No</td>\n",
       "      <td>No</td>\n",
       "      <td>34</td>\n",
       "      <td>Yes</td>\n",
       "      <td>No</td>\n",
       "      <td>DSL</td>\n",
       "      <td>Yes</td>\n",
       "      <td>...</td>\n",
       "      <td>Yes</td>\n",
       "      <td>No</td>\n",
       "      <td>No</td>\n",
       "      <td>No</td>\n",
       "      <td>One year</td>\n",
       "      <td>No</td>\n",
       "      <td>Mailed check</td>\n",
       "      <td>56.95</td>\n",
       "      <td>1889.5</td>\n",
       "      <td>No</td>\n",
       "    </tr>\n",
       "    <tr>\n",
       "      <td>2</td>\n",
       "      <td>3668-QPYBK</td>\n",
       "      <td>Male</td>\n",
       "      <td>0</td>\n",
       "      <td>No</td>\n",
       "      <td>No</td>\n",
       "      <td>2</td>\n",
       "      <td>Yes</td>\n",
       "      <td>No</td>\n",
       "      <td>DSL</td>\n",
       "      <td>Yes</td>\n",
       "      <td>...</td>\n",
       "      <td>No</td>\n",
       "      <td>No</td>\n",
       "      <td>No</td>\n",
       "      <td>No</td>\n",
       "      <td>Month-to-month</td>\n",
       "      <td>Yes</td>\n",
       "      <td>Mailed check</td>\n",
       "      <td>53.85</td>\n",
       "      <td>108.15</td>\n",
       "      <td>Yes</td>\n",
       "    </tr>\n",
       "    <tr>\n",
       "      <td>3</td>\n",
       "      <td>7795-CFOCW</td>\n",
       "      <td>Male</td>\n",
       "      <td>0</td>\n",
       "      <td>No</td>\n",
       "      <td>No</td>\n",
       "      <td>45</td>\n",
       "      <td>No</td>\n",
       "      <td>No phone service</td>\n",
       "      <td>DSL</td>\n",
       "      <td>Yes</td>\n",
       "      <td>...</td>\n",
       "      <td>Yes</td>\n",
       "      <td>Yes</td>\n",
       "      <td>No</td>\n",
       "      <td>No</td>\n",
       "      <td>One year</td>\n",
       "      <td>No</td>\n",
       "      <td>Bank transfer (automatic)</td>\n",
       "      <td>42.30</td>\n",
       "      <td>1840.75</td>\n",
       "      <td>No</td>\n",
       "    </tr>\n",
       "    <tr>\n",
       "      <td>4</td>\n",
       "      <td>9237-HQITU</td>\n",
       "      <td>Female</td>\n",
       "      <td>0</td>\n",
       "      <td>No</td>\n",
       "      <td>No</td>\n",
       "      <td>2</td>\n",
       "      <td>Yes</td>\n",
       "      <td>No</td>\n",
       "      <td>Fiber optic</td>\n",
       "      <td>No</td>\n",
       "      <td>...</td>\n",
       "      <td>No</td>\n",
       "      <td>No</td>\n",
       "      <td>No</td>\n",
       "      <td>No</td>\n",
       "      <td>Month-to-month</td>\n",
       "      <td>Yes</td>\n",
       "      <td>Electronic check</td>\n",
       "      <td>70.70</td>\n",
       "      <td>151.65</td>\n",
       "      <td>Yes</td>\n",
       "    </tr>\n",
       "    <tr>\n",
       "      <td>5</td>\n",
       "      <td>9305-CDSKC</td>\n",
       "      <td>Female</td>\n",
       "      <td>0</td>\n",
       "      <td>No</td>\n",
       "      <td>No</td>\n",
       "      <td>8</td>\n",
       "      <td>Yes</td>\n",
       "      <td>Yes</td>\n",
       "      <td>Fiber optic</td>\n",
       "      <td>No</td>\n",
       "      <td>...</td>\n",
       "      <td>Yes</td>\n",
       "      <td>No</td>\n",
       "      <td>Yes</td>\n",
       "      <td>Yes</td>\n",
       "      <td>Month-to-month</td>\n",
       "      <td>Yes</td>\n",
       "      <td>Electronic check</td>\n",
       "      <td>99.65</td>\n",
       "      <td>820.5</td>\n",
       "      <td>Yes</td>\n",
       "    </tr>\n",
       "    <tr>\n",
       "      <td>6</td>\n",
       "      <td>1452-KIOVK</td>\n",
       "      <td>Male</td>\n",
       "      <td>0</td>\n",
       "      <td>No</td>\n",
       "      <td>Yes</td>\n",
       "      <td>22</td>\n",
       "      <td>Yes</td>\n",
       "      <td>Yes</td>\n",
       "      <td>Fiber optic</td>\n",
       "      <td>No</td>\n",
       "      <td>...</td>\n",
       "      <td>No</td>\n",
       "      <td>No</td>\n",
       "      <td>Yes</td>\n",
       "      <td>No</td>\n",
       "      <td>Month-to-month</td>\n",
       "      <td>Yes</td>\n",
       "      <td>Credit card (automatic)</td>\n",
       "      <td>89.10</td>\n",
       "      <td>1949.4</td>\n",
       "      <td>No</td>\n",
       "    </tr>\n",
       "    <tr>\n",
       "      <td>7</td>\n",
       "      <td>6713-OKOMC</td>\n",
       "      <td>Female</td>\n",
       "      <td>0</td>\n",
       "      <td>No</td>\n",
       "      <td>No</td>\n",
       "      <td>10</td>\n",
       "      <td>No</td>\n",
       "      <td>No phone service</td>\n",
       "      <td>DSL</td>\n",
       "      <td>Yes</td>\n",
       "      <td>...</td>\n",
       "      <td>No</td>\n",
       "      <td>No</td>\n",
       "      <td>No</td>\n",
       "      <td>No</td>\n",
       "      <td>Month-to-month</td>\n",
       "      <td>No</td>\n",
       "      <td>Mailed check</td>\n",
       "      <td>29.75</td>\n",
       "      <td>301.9</td>\n",
       "      <td>No</td>\n",
       "    </tr>\n",
       "    <tr>\n",
       "      <td>8</td>\n",
       "      <td>7892-POOKP</td>\n",
       "      <td>Female</td>\n",
       "      <td>0</td>\n",
       "      <td>Yes</td>\n",
       "      <td>No</td>\n",
       "      <td>28</td>\n",
       "      <td>Yes</td>\n",
       "      <td>Yes</td>\n",
       "      <td>Fiber optic</td>\n",
       "      <td>No</td>\n",
       "      <td>...</td>\n",
       "      <td>Yes</td>\n",
       "      <td>Yes</td>\n",
       "      <td>Yes</td>\n",
       "      <td>Yes</td>\n",
       "      <td>Month-to-month</td>\n",
       "      <td>Yes</td>\n",
       "      <td>Electronic check</td>\n",
       "      <td>104.80</td>\n",
       "      <td>3046.05</td>\n",
       "      <td>Yes</td>\n",
       "    </tr>\n",
       "    <tr>\n",
       "      <td>9</td>\n",
       "      <td>6388-TABGU</td>\n",
       "      <td>Male</td>\n",
       "      <td>0</td>\n",
       "      <td>No</td>\n",
       "      <td>Yes</td>\n",
       "      <td>62</td>\n",
       "      <td>Yes</td>\n",
       "      <td>No</td>\n",
       "      <td>DSL</td>\n",
       "      <td>Yes</td>\n",
       "      <td>...</td>\n",
       "      <td>No</td>\n",
       "      <td>No</td>\n",
       "      <td>No</td>\n",
       "      <td>No</td>\n",
       "      <td>One year</td>\n",
       "      <td>No</td>\n",
       "      <td>Bank transfer (automatic)</td>\n",
       "      <td>56.15</td>\n",
       "      <td>3487.95</td>\n",
       "      <td>No</td>\n",
       "    </tr>\n",
       "  </tbody>\n",
       "</table>\n",
       "<p>10 rows × 21 columns</p>\n",
       "</div>"
      ],
      "text/plain": [
       "   customerID  gender  SeniorCitizen Partner Dependents  tenure PhoneService  \\\n",
       "0  7590-VHVEG  Female              0     Yes         No       1           No   \n",
       "1  5575-GNVDE    Male              0      No         No      34          Yes   \n",
       "2  3668-QPYBK    Male              0      No         No       2          Yes   \n",
       "3  7795-CFOCW    Male              0      No         No      45           No   \n",
       "4  9237-HQITU  Female              0      No         No       2          Yes   \n",
       "5  9305-CDSKC  Female              0      No         No       8          Yes   \n",
       "6  1452-KIOVK    Male              0      No        Yes      22          Yes   \n",
       "7  6713-OKOMC  Female              0      No         No      10           No   \n",
       "8  7892-POOKP  Female              0     Yes         No      28          Yes   \n",
       "9  6388-TABGU    Male              0      No        Yes      62          Yes   \n",
       "\n",
       "      MultipleLines InternetService OnlineSecurity  ... DeviceProtection  \\\n",
       "0  No phone service             DSL             No  ...               No   \n",
       "1                No             DSL            Yes  ...              Yes   \n",
       "2                No             DSL            Yes  ...               No   \n",
       "3  No phone service             DSL            Yes  ...              Yes   \n",
       "4                No     Fiber optic             No  ...               No   \n",
       "5               Yes     Fiber optic             No  ...              Yes   \n",
       "6               Yes     Fiber optic             No  ...               No   \n",
       "7  No phone service             DSL            Yes  ...               No   \n",
       "8               Yes     Fiber optic             No  ...              Yes   \n",
       "9                No             DSL            Yes  ...               No   \n",
       "\n",
       "  TechSupport StreamingTV StreamingMovies        Contract PaperlessBilling  \\\n",
       "0          No          No              No  Month-to-month              Yes   \n",
       "1          No          No              No        One year               No   \n",
       "2          No          No              No  Month-to-month              Yes   \n",
       "3         Yes          No              No        One year               No   \n",
       "4          No          No              No  Month-to-month              Yes   \n",
       "5          No         Yes             Yes  Month-to-month              Yes   \n",
       "6          No         Yes              No  Month-to-month              Yes   \n",
       "7          No          No              No  Month-to-month               No   \n",
       "8         Yes         Yes             Yes  Month-to-month              Yes   \n",
       "9          No          No              No        One year               No   \n",
       "\n",
       "               PaymentMethod MonthlyCharges  TotalCharges Churn  \n",
       "0           Electronic check          29.85         29.85    No  \n",
       "1               Mailed check          56.95        1889.5    No  \n",
       "2               Mailed check          53.85        108.15   Yes  \n",
       "3  Bank transfer (automatic)          42.30       1840.75    No  \n",
       "4           Electronic check          70.70        151.65   Yes  \n",
       "5           Electronic check          99.65         820.5   Yes  \n",
       "6    Credit card (automatic)          89.10        1949.4    No  \n",
       "7               Mailed check          29.75         301.9    No  \n",
       "8           Electronic check         104.80       3046.05   Yes  \n",
       "9  Bank transfer (automatic)          56.15       3487.95    No  \n",
       "\n",
       "[10 rows x 21 columns]"
      ]
     },
     "execution_count": 4,
     "metadata": {},
     "output_type": "execute_result"
    }
   ],
   "source": [
    "churn_df.head(10)"
   ]
  },
  {
   "cell_type": "markdown",
   "metadata": {},
   "source": [
    "### Data Cleaning "
   ]
  },
  {
   "cell_type": "markdown",
   "metadata": {},
   "source": [
    "Checking for Missing Data"
   ]
  },
  {
   "cell_type": "code",
   "execution_count": 5,
   "metadata": {},
   "outputs": [
    {
     "data": {
      "text/plain": [
       "False"
      ]
     },
     "execution_count": 5,
     "metadata": {},
     "output_type": "execute_result"
    }
   ],
   "source": [
    "\" \" in churn_df"
   ]
  },
  {
   "cell_type": "code",
   "execution_count": 6,
   "metadata": {},
   "outputs": [
    {
     "data": {
      "text/plain": [
       "False"
      ]
     },
     "execution_count": 6,
     "metadata": {},
     "output_type": "execute_result"
    }
   ],
   "source": [
    "'' in churn_df"
   ]
  },
  {
   "cell_type": "code",
   "execution_count": 7,
   "metadata": {},
   "outputs": [],
   "source": [
    "churn_df['TotalCharges'] = churn_df[\"TotalCharges\"].replace(\" \",np.nan)"
   ]
  },
  {
   "cell_type": "code",
   "execution_count": 8,
   "metadata": {},
   "outputs": [
    {
     "data": {
      "text/plain": [
       "customerID           0\n",
       "gender               0\n",
       "SeniorCitizen        0\n",
       "Partner              0\n",
       "Dependents           0\n",
       "tenure               0\n",
       "PhoneService         0\n",
       "MultipleLines        0\n",
       "InternetService      0\n",
       "OnlineSecurity       0\n",
       "OnlineBackup         0\n",
       "DeviceProtection     0\n",
       "TechSupport          0\n",
       "StreamingTV          0\n",
       "StreamingMovies      0\n",
       "Contract             0\n",
       "PaperlessBilling     0\n",
       "PaymentMethod        0\n",
       "MonthlyCharges       0\n",
       "TotalCharges        11\n",
       "Churn                0\n",
       "dtype: int64"
      ]
     },
     "execution_count": 8,
     "metadata": {},
     "output_type": "execute_result"
    }
   ],
   "source": [
    "churn_df.isnull().sum()"
   ]
  },
  {
   "cell_type": "code",
   "execution_count": 9,
   "metadata": {},
   "outputs": [],
   "source": [
    "churn_df = churn_df.dropna()"
   ]
  },
  {
   "cell_type": "code",
   "execution_count": 10,
   "metadata": {},
   "outputs": [],
   "source": [
    "churn_df['TotalCharges'] = churn_df['TotalCharges'].astype('float')"
   ]
  },
  {
   "cell_type": "code",
   "execution_count": 11,
   "metadata": {},
   "outputs": [
    {
     "data": {
      "text/plain": [
       "customerID          0\n",
       "gender              0\n",
       "SeniorCitizen       0\n",
       "Partner             0\n",
       "Dependents          0\n",
       "tenure              0\n",
       "PhoneService        0\n",
       "MultipleLines       0\n",
       "InternetService     0\n",
       "OnlineSecurity      0\n",
       "OnlineBackup        0\n",
       "DeviceProtection    0\n",
       "TechSupport         0\n",
       "StreamingTV         0\n",
       "StreamingMovies     0\n",
       "Contract            0\n",
       "PaperlessBilling    0\n",
       "PaymentMethod       0\n",
       "MonthlyCharges      0\n",
       "TotalCharges        0\n",
       "Churn               0\n",
       "dtype: int64"
      ]
     },
     "execution_count": 11,
     "metadata": {},
     "output_type": "execute_result"
    }
   ],
   "source": [
    "churn_df.isnull().sum()"
   ]
  },
  {
   "cell_type": "markdown",
   "metadata": {},
   "source": [
    "### Data Exploration"
   ]
  },
  {
   "cell_type": "code",
   "execution_count": 12,
   "metadata": {},
   "outputs": [
    {
     "name": "stdout",
     "output_type": "stream",
     "text": [
      "Number of Rows:  7032\n",
      "Number of Columns:  21\n",
      "\n",
      "Number of Features: 21 \n",
      "['customerID', 'gender', 'SeniorCitizen', 'Partner', 'Dependents', 'tenure', 'PhoneService', 'MultipleLines', 'InternetService', 'OnlineSecurity', 'OnlineBackup', 'DeviceProtection', 'TechSupport', 'StreamingTV', 'StreamingMovies', 'Contract', 'PaperlessBilling', 'PaymentMethod', 'MonthlyCharges', 'TotalCharges', 'Churn']\n"
     ]
    }
   ],
   "source": [
    "print(\"Number of Rows: \", churn_df.shape[0])\n",
    "print(\"Number of Columns: \", churn_df.shape[1])\n",
    "print(\"\\nNumber of Features: {} \\n{}\".format(len(churn_df.columns),list(churn_df.columns)))"
   ]
  },
  {
   "cell_type": "code",
   "execution_count": 13,
   "metadata": {},
   "outputs": [
    {
     "data": {
      "text/plain": [
       "customerID           object\n",
       "gender               object\n",
       "SeniorCitizen         int64\n",
       "Partner              object\n",
       "Dependents           object\n",
       "tenure                int64\n",
       "PhoneService         object\n",
       "MultipleLines        object\n",
       "InternetService      object\n",
       "OnlineSecurity       object\n",
       "OnlineBackup         object\n",
       "DeviceProtection     object\n",
       "TechSupport          object\n",
       "StreamingTV          object\n",
       "StreamingMovies      object\n",
       "Contract             object\n",
       "PaperlessBilling     object\n",
       "PaymentMethod        object\n",
       "MonthlyCharges      float64\n",
       "TotalCharges        float64\n",
       "Churn                object\n",
       "dtype: object"
      ]
     },
     "execution_count": 13,
     "metadata": {},
     "output_type": "execute_result"
    }
   ],
   "source": [
    "churn_df.dtypes"
   ]
  },
  {
   "cell_type": "code",
   "execution_count": 14,
   "metadata": {},
   "outputs": [
    {
     "data": {
      "text/plain": [
       "customerID          7032\n",
       "gender                 2\n",
       "SeniorCitizen          2\n",
       "Partner                2\n",
       "Dependents             2\n",
       "tenure                72\n",
       "PhoneService           2\n",
       "MultipleLines          3\n",
       "InternetService        3\n",
       "OnlineSecurity         3\n",
       "OnlineBackup           3\n",
       "DeviceProtection       3\n",
       "TechSupport            3\n",
       "StreamingTV            3\n",
       "StreamingMovies        3\n",
       "Contract               3\n",
       "PaperlessBilling       2\n",
       "PaymentMethod          4\n",
       "MonthlyCharges      1584\n",
       "TotalCharges        6530\n",
       "Churn                  2\n",
       "dtype: int64"
      ]
     },
     "execution_count": 14,
     "metadata": {},
     "output_type": "execute_result"
    }
   ],
   "source": [
    "churn_df.nunique()"
   ]
  },
  {
   "cell_type": "code",
   "execution_count": 15,
   "metadata": {},
   "outputs": [],
   "source": [
    "def pie_plots(columns):\n",
    "    fig = plt.figure(figsize = (20,20))\n",
    "    for i in range(len(columns)):\n",
    "        print('\\n{}'.format(columns[i]))\n",
    "        unique_items = churn_df[columns[i]].unique()\n",
    "        print(unique_items)\n",
    "\n",
    "        sizes = []\n",
    "        for item in unique_items:\n",
    "            sizes.append(len(churn_df.loc[churn_df[columns[i]]== item]))\n",
    "\n",
    "        for k in range(len(unique_items)):\n",
    "            print('{} : {}'.format(unique_items[k],sizes[k]))\n",
    "        ax = plt.subplot(5, 4, i+1)\n",
    "        ax.set_title(columns[i])\n",
    "        ax.pie(sizes, labels = unique_items)\n",
    "    plt.show()\n",
    "    return\n",
    "    \n",
    "    "
   ]
  },
  {
   "cell_type": "code",
   "execution_count": 16,
   "metadata": {
    "scrolled": false
   },
   "outputs": [
    {
     "name": "stdout",
     "output_type": "stream",
     "text": [
      "\n",
      "gender\n",
      "['Female' 'Male']\n",
      "Female : 3483\n",
      "Male : 3549\n",
      "\n",
      "SeniorCitizen\n",
      "[0 1]\n",
      "0 : 5890\n",
      "1 : 1142\n",
      "\n",
      "Partner\n",
      "['Yes' 'No']\n",
      "Yes : 3393\n",
      "No : 3639\n",
      "\n",
      "Dependents\n",
      "['No' 'Yes']\n",
      "No : 4933\n",
      "Yes : 2099\n",
      "\n",
      "PhoneService\n",
      "['No' 'Yes']\n",
      "No : 680\n",
      "Yes : 6352\n",
      "\n",
      "MultipleLines\n",
      "['No phone service' 'No' 'Yes']\n",
      "No phone service : 680\n",
      "No : 3385\n",
      "Yes : 2967\n",
      "\n",
      "InternetService\n",
      "['DSL' 'Fiber optic' 'No']\n",
      "DSL : 2416\n",
      "Fiber optic : 3096\n",
      "No : 1520\n",
      "\n",
      "OnlineSecurity\n",
      "['No' 'Yes' 'No internet service']\n",
      "No : 3497\n",
      "Yes : 2015\n",
      "No internet service : 1520\n",
      "\n",
      "OnlineBackup\n",
      "['Yes' 'No' 'No internet service']\n",
      "Yes : 2425\n",
      "No : 3087\n",
      "No internet service : 1520\n",
      "\n",
      "DeviceProtection\n",
      "['No' 'Yes' 'No internet service']\n",
      "No : 3094\n",
      "Yes : 2418\n",
      "No internet service : 1520\n",
      "\n",
      "TechSupport\n",
      "['No' 'Yes' 'No internet service']\n",
      "No : 3472\n",
      "Yes : 2040\n",
      "No internet service : 1520\n",
      "\n",
      "StreamingTV\n",
      "['No' 'Yes' 'No internet service']\n",
      "No : 2809\n",
      "Yes : 2703\n",
      "No internet service : 1520\n",
      "\n",
      "StreamingMovies\n",
      "['No' 'Yes' 'No internet service']\n",
      "No : 2781\n",
      "Yes : 2731\n",
      "No internet service : 1520\n",
      "\n",
      "Contract\n",
      "['Month-to-month' 'One year' 'Two year']\n",
      "Month-to-month : 3875\n",
      "One year : 1472\n",
      "Two year : 1685\n",
      "\n",
      "PaperlessBilling\n",
      "['Yes' 'No']\n",
      "Yes : 4168\n",
      "No : 2864\n",
      "\n",
      "PaymentMethod\n",
      "['Electronic check' 'Mailed check' 'Bank transfer (automatic)'\n",
      " 'Credit card (automatic)']\n",
      "Electronic check : 2365\n",
      "Mailed check : 1604\n",
      "Bank transfer (automatic) : 1542\n",
      "Credit card (automatic) : 1521\n",
      "\n",
      "Churn\n",
      "['No' 'Yes']\n",
      "No : 5163\n",
      "Yes : 1869\n"
     ]
    },
    {
     "data": {
      "image/png": "[encoded data removed]",
      "text/plain": [
       "<Figure size 1440x1440 with 17 Axes>"
      ]
     },
     "metadata": {},
     "output_type": "display_data"
    }
   ],
   "source": [
    "pie_cols = ['gender', 'SeniorCitizen', 'Partner', 'Dependents',  'PhoneService', 'MultipleLines', 'InternetService', 'OnlineSecurity', 'OnlineBackup', 'DeviceProtection', 'TechSupport', 'StreamingTV', 'StreamingMovies', 'Contract', 'PaperlessBilling', 'PaymentMethod', 'Churn']\n",
    "pie_plots(pie_cols)"
   ]
  },
  {
   "cell_type": "code",
   "execution_count": 17,
   "metadata": {},
   "outputs": [
    {
     "data": {
      "text/plain": [
       "(array([1724.,  735.,  561.,  538.,  473.,  444.,  452.,  495.,  501.,\n",
       "        1109.]),\n",
       " array([ 1. ,  8.1, 15.2, 22.3, 29.4, 36.5, 43.6, 50.7, 57.8, 64.9, 72. ]),\n",
       " <a list of 10 Patch objects>)"
      ]
     },
     "execution_count": 17,
     "metadata": {},
     "output_type": "execute_result"
    },
    {
     "data": {
      "image/png": "[encoded data removed]",
      "text/plain": [
       "<Figure size 432x288 with 1 Axes>"
      ]
     },
     "metadata": {
      "needs_background": "light"
     },
     "output_type": "display_data"
    }
   ],
   "source": [
    "plt.hist(churn_df['tenure'])"
   ]
  },
  {
   "cell_type": "code",
   "execution_count": 18,
   "metadata": {},
   "outputs": [
    {
     "data": {
      "text/plain": [
       "(array([1600.,  191.,  365.,  637.,  472.,  894.,  952.,  869.,  758.,\n",
       "         294.]),\n",
       " array([ 18.25,  28.3 ,  38.35,  48.4 ,  58.45,  68.5 ,  78.55,  88.6 ,\n",
       "         98.65, 108.7 , 118.75]),\n",
       " <a list of 10 Patch objects>)"
      ]
     },
     "execution_count": 18,
     "metadata": {},
     "output_type": "execute_result"
    },
    {
     "data": {
      "image/png": "[encoded data removed]",
      "text/plain": [
       "<Figure size 432x288 with 1 Axes>"
      ]
     },
     "metadata": {
      "needs_background": "light"
     },
     "output_type": "display_data"
    }
   ],
   "source": [
    "plt.hist(churn_df['MonthlyCharges'])"
   ]
  },
  {
   "cell_type": "code",
   "execution_count": 19,
   "metadata": {},
   "outputs": [
    {
     "data": {
      "text/plain": [
       "(array([2709., 1228.,  671.,  508.,  454.,  412.,  395.,  310.,  223.,\n",
       "         122.]),\n",
       " array([  18.8,  885.4, 1752. , 2618.6, 3485.2, 4351.8, 5218.4, 6085. ,\n",
       "        6951.6, 7818.2, 8684.8]),\n",
       " <a list of 10 Patch objects>)"
      ]
     },
     "execution_count": 19,
     "metadata": {},
     "output_type": "execute_result"
    },
    {
     "data": {
      "image/png": "[encoded data removed]",
      "text/plain": [
       "<Figure size 432x288 with 1 Axes>"
      ]
     },
     "metadata": {
      "needs_background": "light"
     },
     "output_type": "display_data"
    }
   ],
   "source": [
    "plt.hist(churn_df['TotalCharges'])"
   ]
  },
  {
   "cell_type": "markdown",
   "metadata": {},
   "source": [
    "Handling categorical features"
   ]
  },
  {
   "cell_type": "code",
   "execution_count": 20,
   "metadata": {},
   "outputs": [],
   "source": [
    "cols = ['gender', 'SeniorCitizen', 'Partner', 'Dependents',  'PhoneService', 'MultipleLines', 'InternetService', 'OnlineSecurity', 'OnlineBackup', 'DeviceProtection', 'TechSupport', 'StreamingTV', 'StreamingMovies', 'Contract', 'PaperlessBilling', 'PaymentMethod']\n",
    "for col in cols:\n",
    "    dummies = pd.get_dummies(churn_df[col], drop_first= False)\n",
    "    dummies = dummies.add_prefix('{}_'.format(col))\n",
    "    churn_df.drop(col,inplace = True,axis = 1)\n",
    "    churn_df = churn_df.join(dummies)"
   ]
  },
  {
   "cell_type": "code",
   "execution_count": 21,
   "metadata": {},
   "outputs": [],
   "source": [
    "churn_df['Churn'] = churn_df['Churn'].replace({'Yes':1, 'No': 0})"
   ]
  },
  {
   "cell_type": "code",
   "execution_count": 22,
   "metadata": {},
   "outputs": [],
   "source": [
    "churn_df.drop('customerID' , axis = 1, inplace = True)"
   ]
  },
  {
   "cell_type": "code",
   "execution_count": 23,
   "metadata": {},
   "outputs": [
    {
     "data": {
      "text/html": [
       "<div>\n",
       "<style scoped>\n",
       "    .dataframe tbody tr th:only-of-type {\n",
       "        vertical-align: middle;\n",
       "    }\n",
       "\n",
       "    .dataframe tbody tr th {\n",
       "        vertical-align: top;\n",
       "    }\n",
       "\n",
       "    .dataframe thead th {\n",
       "        text-align: right;\n",
       "    }\n",
       "</style>\n",
       "<table border=\"1\" class=\"dataframe\">\n",
       "  <thead>\n",
       "    <tr style=\"text-align: right;\">\n",
       "      <th></th>\n",
       "      <th>tenure</th>\n",
       "      <th>MonthlyCharges</th>\n",
       "      <th>TotalCharges</th>\n",
       "      <th>Churn</th>\n",
       "      <th>gender_Female</th>\n",
       "      <th>gender_Male</th>\n",
       "      <th>SeniorCitizen_0</th>\n",
       "      <th>SeniorCitizen_1</th>\n",
       "      <th>Partner_No</th>\n",
       "      <th>Partner_Yes</th>\n",
       "      <th>...</th>\n",
       "      <th>StreamingMovies_Yes</th>\n",
       "      <th>Contract_Month-to-month</th>\n",
       "      <th>Contract_One year</th>\n",
       "      <th>Contract_Two year</th>\n",
       "      <th>PaperlessBilling_No</th>\n",
       "      <th>PaperlessBilling_Yes</th>\n",
       "      <th>PaymentMethod_Bank transfer (automatic)</th>\n",
       "      <th>PaymentMethod_Credit card (automatic)</th>\n",
       "      <th>PaymentMethod_Electronic check</th>\n",
       "      <th>PaymentMethod_Mailed check</th>\n",
       "    </tr>\n",
       "  </thead>\n",
       "  <tbody>\n",
       "    <tr>\n",
       "      <td>0</td>\n",
       "      <td>1</td>\n",
       "      <td>29.85</td>\n",
       "      <td>29.85</td>\n",
       "      <td>0</td>\n",
       "      <td>1</td>\n",
       "      <td>0</td>\n",
       "      <td>1</td>\n",
       "      <td>0</td>\n",
       "      <td>0</td>\n",
       "      <td>1</td>\n",
       "      <td>...</td>\n",
       "      <td>0</td>\n",
       "      <td>1</td>\n",
       "      <td>0</td>\n",
       "      <td>0</td>\n",
       "      <td>0</td>\n",
       "      <td>1</td>\n",
       "      <td>0</td>\n",
       "      <td>0</td>\n",
       "      <td>1</td>\n",
       "      <td>0</td>\n",
       "    </tr>\n",
       "    <tr>\n",
       "      <td>1</td>\n",
       "      <td>34</td>\n",
       "      <td>56.95</td>\n",
       "      <td>1889.50</td>\n",
       "      <td>0</td>\n",
       "      <td>0</td>\n",
       "      <td>1</td>\n",
       "      <td>1</td>\n",
       "      <td>0</td>\n",
       "      <td>1</td>\n",
       "      <td>0</td>\n",
       "      <td>...</td>\n",
       "      <td>0</td>\n",
       "      <td>0</td>\n",
       "      <td>1</td>\n",
       "      <td>0</td>\n",
       "      <td>1</td>\n",
       "      <td>0</td>\n",
       "      <td>0</td>\n",
       "      <td>0</td>\n",
       "      <td>0</td>\n",
       "      <td>1</td>\n",
       "    </tr>\n",
       "    <tr>\n",
       "      <td>2</td>\n",
       "      <td>2</td>\n",
       "      <td>53.85</td>\n",
       "      <td>108.15</td>\n",
       "      <td>1</td>\n",
       "      <td>0</td>\n",
       "      <td>1</td>\n",
       "      <td>1</td>\n",
       "      <td>0</td>\n",
       "      <td>1</td>\n",
       "      <td>0</td>\n",
       "      <td>...</td>\n",
       "      <td>0</td>\n",
       "      <td>1</td>\n",
       "      <td>0</td>\n",
       "      <td>0</td>\n",
       "      <td>0</td>\n",
       "      <td>1</td>\n",
       "      <td>0</td>\n",
       "      <td>0</td>\n",
       "      <td>0</td>\n",
       "      <td>1</td>\n",
       "    </tr>\n",
       "    <tr>\n",
       "      <td>3</td>\n",
       "      <td>45</td>\n",
       "      <td>42.30</td>\n",
       "      <td>1840.75</td>\n",
       "      <td>0</td>\n",
       "      <td>0</td>\n",
       "      <td>1</td>\n",
       "      <td>1</td>\n",
       "      <td>0</td>\n",
       "      <td>1</td>\n",
       "      <td>0</td>\n",
       "      <td>...</td>\n",
       "      <td>0</td>\n",
       "      <td>0</td>\n",
       "      <td>1</td>\n",
       "      <td>0</td>\n",
       "      <td>1</td>\n",
       "      <td>0</td>\n",
       "      <td>1</td>\n",
       "      <td>0</td>\n",
       "      <td>0</td>\n",
       "      <td>0</td>\n",
       "    </tr>\n",
       "    <tr>\n",
       "      <td>4</td>\n",
       "      <td>2</td>\n",
       "      <td>70.70</td>\n",
       "      <td>151.65</td>\n",
       "      <td>1</td>\n",
       "      <td>1</td>\n",
       "      <td>0</td>\n",
       "      <td>1</td>\n",
       "      <td>0</td>\n",
       "      <td>1</td>\n",
       "      <td>0</td>\n",
       "      <td>...</td>\n",
       "      <td>0</td>\n",
       "      <td>1</td>\n",
       "      <td>0</td>\n",
       "      <td>0</td>\n",
       "      <td>0</td>\n",
       "      <td>1</td>\n",
       "      <td>0</td>\n",
       "      <td>0</td>\n",
       "      <td>1</td>\n",
       "      <td>0</td>\n",
       "    </tr>\n",
       "  </tbody>\n",
       "</table>\n",
       "<p>5 rows × 47 columns</p>\n",
       "</div>"
      ],
      "text/plain": [
       "   tenure  MonthlyCharges  TotalCharges  Churn  gender_Female  gender_Male  \\\n",
       "0       1           29.85         29.85      0              1            0   \n",
       "1      34           56.95       1889.50      0              0            1   \n",
       "2       2           53.85        108.15      1              0            1   \n",
       "3      45           42.30       1840.75      0              0            1   \n",
       "4       2           70.70        151.65      1              1            0   \n",
       "\n",
       "   SeniorCitizen_0  SeniorCitizen_1  Partner_No  Partner_Yes  ...  \\\n",
       "0                1                0           0            1  ...   \n",
       "1                1                0           1            0  ...   \n",
       "2                1                0           1            0  ...   \n",
       "3                1                0           1            0  ...   \n",
       "4                1                0           1            0  ...   \n",
       "\n",
       "   StreamingMovies_Yes  Contract_Month-to-month  Contract_One year  \\\n",
       "0                    0                        1                  0   \n",
       "1                    0                        0                  1   \n",
       "2                    0                        1                  0   \n",
       "3                    0                        0                  1   \n",
       "4                    0                        1                  0   \n",
       "\n",
       "   Contract_Two year  PaperlessBilling_No  PaperlessBilling_Yes  \\\n",
       "0                  0                    0                     1   \n",
       "1                  0                    1                     0   \n",
       "2                  0                    0                     1   \n",
       "3                  0                    1                     0   \n",
       "4                  0                    0                     1   \n",
       "\n",
       "   PaymentMethod_Bank transfer (automatic)  \\\n",
       "0                                        0   \n",
       "1                                        0   \n",
       "2                                        0   \n",
       "3                                        1   \n",
       "4                                        0   \n",
       "\n",
       "   PaymentMethod_Credit card (automatic)  PaymentMethod_Electronic check  \\\n",
       "0                                      0                               1   \n",
       "1                                      0                               0   \n",
       "2                                      0                               0   \n",
       "3                                      0                               0   \n",
       "4                                      0                               1   \n",
       "\n",
       "   PaymentMethod_Mailed check  \n",
       "0                           0  \n",
       "1                           1  \n",
       "2                           1  \n",
       "3                           0  \n",
       "4                           0  \n",
       "\n",
       "[5 rows x 47 columns]"
      ]
     },
     "execution_count": 23,
     "metadata": {},
     "output_type": "execute_result"
    }
   ],
   "source": [
    "churn_df.head()"
   ]
  },
  {
   "cell_type": "code",
   "execution_count": 24,
   "metadata": {},
   "outputs": [
    {
     "data": {
      "text/plain": [
       "<matplotlib.axes._subplots.AxesSubplot at 0x225b6b80d48>"
      ]
     },
     "execution_count": 24,
     "metadata": {},
     "output_type": "execute_result"
    },
    {
     "data": {
      "image/png": "[encoded data removed]",
      "text/plain": [
       "<Figure size 1440x1080 with 2 Axes>"
      ]
     },
     "metadata": {
      "needs_background": "light"
     },
     "output_type": "display_data"
    }
   ],
   "source": [
    "corr=churn_df.corr().iloc[:,:] \n",
    "c1 = corr.abs().unstack()\n",
    "c1.sort_values(ascending = False)\n",
    "\n",
    "plt.subplots(figsize=(20,15))\n",
    "sns.heatmap(corr,annot=False,cmap=\"YlGnBu\")"
   ]
  },
  {
   "cell_type": "code",
   "execution_count": 25,
   "metadata": {},
   "outputs": [
    {
     "data": {
      "text/plain": [
       "<matplotlib.axes._subplots.AxesSubplot at 0x225b6d8a748>"
      ]
     },
     "execution_count": 25,
     "metadata": {},
     "output_type": "execute_result"
    },
    {
     "data": {
      "image/png": "[encoded data removed]",
      "text/plain": [
       "<Figure size 720x576 with 1 Axes>"
      ]
     },
     "metadata": {
      "needs_background": "light"
     },
     "output_type": "display_data"
    }
   ],
   "source": [
    "plt.figure(figsize = (10,8))\n",
    "corr['Churn'].sort_values(ascending = False).plot(kind='bar')"
   ]
  },
  {
   "cell_type": "code",
   "execution_count": 26,
   "metadata": {},
   "outputs": [
    {
     "data": {
      "text/html": [
       "<div>\n",
       "<style scoped>\n",
       "    .dataframe tbody tr th:only-of-type {\n",
       "        vertical-align: middle;\n",
       "    }\n",
       "\n",
       "    .dataframe tbody tr th {\n",
       "        vertical-align: top;\n",
       "    }\n",
       "\n",
       "    .dataframe thead th {\n",
       "        text-align: right;\n",
       "    }\n",
       "</style>\n",
       "<table border=\"1\" class=\"dataframe\">\n",
       "  <thead>\n",
       "    <tr style=\"text-align: right;\">\n",
       "      <th></th>\n",
       "      <th>tenure</th>\n",
       "      <th>MonthlyCharges</th>\n",
       "      <th>TotalCharges</th>\n",
       "      <th>Churn</th>\n",
       "      <th>gender_Female</th>\n",
       "      <th>gender_Male</th>\n",
       "      <th>SeniorCitizen_0</th>\n",
       "      <th>SeniorCitizen_1</th>\n",
       "      <th>Partner_No</th>\n",
       "      <th>Partner_Yes</th>\n",
       "      <th>...</th>\n",
       "      <th>StreamingMovies_Yes</th>\n",
       "      <th>Contract_Month-to-month</th>\n",
       "      <th>Contract_One year</th>\n",
       "      <th>Contract_Two year</th>\n",
       "      <th>PaperlessBilling_No</th>\n",
       "      <th>PaperlessBilling_Yes</th>\n",
       "      <th>PaymentMethod_Bank transfer (automatic)</th>\n",
       "      <th>PaymentMethod_Credit card (automatic)</th>\n",
       "      <th>PaymentMethod_Electronic check</th>\n",
       "      <th>PaymentMethod_Mailed check</th>\n",
       "    </tr>\n",
       "  </thead>\n",
       "  <tbody>\n",
       "    <tr>\n",
       "      <td>0</td>\n",
       "      <td>1</td>\n",
       "      <td>29.85</td>\n",
       "      <td>29.85</td>\n",
       "      <td>0</td>\n",
       "      <td>1</td>\n",
       "      <td>0</td>\n",
       "      <td>1</td>\n",
       "      <td>0</td>\n",
       "      <td>0</td>\n",
       "      <td>1</td>\n",
       "      <td>...</td>\n",
       "      <td>0</td>\n",
       "      <td>1</td>\n",
       "      <td>0</td>\n",
       "      <td>0</td>\n",
       "      <td>0</td>\n",
       "      <td>1</td>\n",
       "      <td>0</td>\n",
       "      <td>0</td>\n",
       "      <td>1</td>\n",
       "      <td>0</td>\n",
       "    </tr>\n",
       "    <tr>\n",
       "      <td>1</td>\n",
       "      <td>34</td>\n",
       "      <td>56.95</td>\n",
       "      <td>1889.50</td>\n",
       "      <td>0</td>\n",
       "      <td>0</td>\n",
       "      <td>1</td>\n",
       "      <td>1</td>\n",
       "      <td>0</td>\n",
       "      <td>1</td>\n",
       "      <td>0</td>\n",
       "      <td>...</td>\n",
       "      <td>0</td>\n",
       "      <td>0</td>\n",
       "      <td>1</td>\n",
       "      <td>0</td>\n",
       "      <td>1</td>\n",
       "      <td>0</td>\n",
       "      <td>0</td>\n",
       "      <td>0</td>\n",
       "      <td>0</td>\n",
       "      <td>1</td>\n",
       "    </tr>\n",
       "    <tr>\n",
       "      <td>2</td>\n",
       "      <td>2</td>\n",
       "      <td>53.85</td>\n",
       "      <td>108.15</td>\n",
       "      <td>1</td>\n",
       "      <td>0</td>\n",
       "      <td>1</td>\n",
       "      <td>1</td>\n",
       "      <td>0</td>\n",
       "      <td>1</td>\n",
       "      <td>0</td>\n",
       "      <td>...</td>\n",
       "      <td>0</td>\n",
       "      <td>1</td>\n",
       "      <td>0</td>\n",
       "      <td>0</td>\n",
       "      <td>0</td>\n",
       "      <td>1</td>\n",
       "      <td>0</td>\n",
       "      <td>0</td>\n",
       "      <td>0</td>\n",
       "      <td>1</td>\n",
       "    </tr>\n",
       "    <tr>\n",
       "      <td>3</td>\n",
       "      <td>45</td>\n",
       "      <td>42.30</td>\n",
       "      <td>1840.75</td>\n",
       "      <td>0</td>\n",
       "      <td>0</td>\n",
       "      <td>1</td>\n",
       "      <td>1</td>\n",
       "      <td>0</td>\n",
       "      <td>1</td>\n",
       "      <td>0</td>\n",
       "      <td>...</td>\n",
       "      <td>0</td>\n",
       "      <td>0</td>\n",
       "      <td>1</td>\n",
       "      <td>0</td>\n",
       "      <td>1</td>\n",
       "      <td>0</td>\n",
       "      <td>1</td>\n",
       "      <td>0</td>\n",
       "      <td>0</td>\n",
       "      <td>0</td>\n",
       "    </tr>\n",
       "    <tr>\n",
       "      <td>4</td>\n",
       "      <td>2</td>\n",
       "      <td>70.70</td>\n",
       "      <td>151.65</td>\n",
       "      <td>1</td>\n",
       "      <td>1</td>\n",
       "      <td>0</td>\n",
       "      <td>1</td>\n",
       "      <td>0</td>\n",
       "      <td>1</td>\n",
       "      <td>0</td>\n",
       "      <td>...</td>\n",
       "      <td>0</td>\n",
       "      <td>1</td>\n",
       "      <td>0</td>\n",
       "      <td>0</td>\n",
       "      <td>0</td>\n",
       "      <td>1</td>\n",
       "      <td>0</td>\n",
       "      <td>0</td>\n",
       "      <td>1</td>\n",
       "      <td>0</td>\n",
       "    </tr>\n",
       "  </tbody>\n",
       "</table>\n",
       "<p>5 rows × 47 columns</p>\n",
       "</div>"
      ],
      "text/plain": [
       "   tenure  MonthlyCharges  TotalCharges  Churn  gender_Female  gender_Male  \\\n",
       "0       1           29.85         29.85      0              1            0   \n",
       "1      34           56.95       1889.50      0              0            1   \n",
       "2       2           53.85        108.15      1              0            1   \n",
       "3      45           42.30       1840.75      0              0            1   \n",
       "4       2           70.70        151.65      1              1            0   \n",
       "\n",
       "   SeniorCitizen_0  SeniorCitizen_1  Partner_No  Partner_Yes  ...  \\\n",
       "0                1                0           0            1  ...   \n",
       "1                1                0           1            0  ...   \n",
       "2                1                0           1            0  ...   \n",
       "3                1                0           1            0  ...   \n",
       "4                1                0           1            0  ...   \n",
       "\n",
       "   StreamingMovies_Yes  Contract_Month-to-month  Contract_One year  \\\n",
       "0                    0                        1                  0   \n",
       "1                    0                        0                  1   \n",
       "2                    0                        1                  0   \n",
       "3                    0                        0                  1   \n",
       "4                    0                        1                  0   \n",
       "\n",
       "   Contract_Two year  PaperlessBilling_No  PaperlessBilling_Yes  \\\n",
       "0                  0                    0                     1   \n",
       "1                  0                    1                     0   \n",
       "2                  0                    0                     1   \n",
       "3                  0                    1                     0   \n",
       "4                  0                    0                     1   \n",
       "\n",
       "   PaymentMethod_Bank transfer (automatic)  \\\n",
       "0                                        0   \n",
       "1                                        0   \n",
       "2                                        0   \n",
       "3                                        1   \n",
       "4                                        0   \n",
       "\n",
       "   PaymentMethod_Credit card (automatic)  PaymentMethod_Electronic check  \\\n",
       "0                                      0                               1   \n",
       "1                                      0                               0   \n",
       "2                                      0                               0   \n",
       "3                                      0                               0   \n",
       "4                                      0                               1   \n",
       "\n",
       "   PaymentMethod_Mailed check  \n",
       "0                           0  \n",
       "1                           1  \n",
       "2                           1  \n",
       "3                           0  \n",
       "4                           0  \n",
       "\n",
       "[5 rows x 47 columns]"
      ]
     },
     "execution_count": 26,
     "metadata": {},
     "output_type": "execute_result"
    }
   ],
   "source": [
    "churn_df.head()"
   ]
  },
  {
   "cell_type": "code",
   "execution_count": 27,
   "metadata": {},
   "outputs": [
    {
     "data": {
      "text/html": [
       "<div>\n",
       "<style scoped>\n",
       "    .dataframe tbody tr th:only-of-type {\n",
       "        vertical-align: middle;\n",
       "    }\n",
       "\n",
       "    .dataframe tbody tr th {\n",
       "        vertical-align: top;\n",
       "    }\n",
       "\n",
       "    .dataframe thead th {\n",
       "        text-align: right;\n",
       "    }\n",
       "</style>\n",
       "<table border=\"1\" class=\"dataframe\">\n",
       "  <thead>\n",
       "    <tr style=\"text-align: right;\">\n",
       "      <th></th>\n",
       "      <th>tenure</th>\n",
       "      <th>MonthlyCharges</th>\n",
       "      <th>TotalCharges</th>\n",
       "      <th>Churn</th>\n",
       "      <th>gender_Female</th>\n",
       "      <th>gender_Male</th>\n",
       "      <th>SeniorCitizen_0</th>\n",
       "      <th>SeniorCitizen_1</th>\n",
       "      <th>Partner_No</th>\n",
       "      <th>Partner_Yes</th>\n",
       "      <th>...</th>\n",
       "      <th>StreamingMovies_Yes</th>\n",
       "      <th>Contract_Month-to-month</th>\n",
       "      <th>Contract_One year</th>\n",
       "      <th>Contract_Two year</th>\n",
       "      <th>PaperlessBilling_No</th>\n",
       "      <th>PaperlessBilling_Yes</th>\n",
       "      <th>PaymentMethod_Bank transfer (automatic)</th>\n",
       "      <th>PaymentMethod_Credit card (automatic)</th>\n",
       "      <th>PaymentMethod_Electronic check</th>\n",
       "      <th>PaymentMethod_Mailed check</th>\n",
       "    </tr>\n",
       "  </thead>\n",
       "  <tbody>\n",
       "    <tr>\n",
       "      <td>count</td>\n",
       "      <td>7032.000000</td>\n",
       "      <td>7032.000000</td>\n",
       "      <td>7032.000000</td>\n",
       "      <td>7032.000000</td>\n",
       "      <td>7032.000000</td>\n",
       "      <td>7032.000000</td>\n",
       "      <td>7032.000000</td>\n",
       "      <td>7032.000000</td>\n",
       "      <td>7032.000000</td>\n",
       "      <td>7032.000000</td>\n",
       "      <td>...</td>\n",
       "      <td>7032.000000</td>\n",
       "      <td>7032.000000</td>\n",
       "      <td>7032.000000</td>\n",
       "      <td>7032.000000</td>\n",
       "      <td>7032.000000</td>\n",
       "      <td>7032.000000</td>\n",
       "      <td>7032.000000</td>\n",
       "      <td>7032.000000</td>\n",
       "      <td>7032.000000</td>\n",
       "      <td>7032.000000</td>\n",
       "    </tr>\n",
       "    <tr>\n",
       "      <td>mean</td>\n",
       "      <td>32.421786</td>\n",
       "      <td>64.798208</td>\n",
       "      <td>2283.300441</td>\n",
       "      <td>0.265785</td>\n",
       "      <td>0.495307</td>\n",
       "      <td>0.504693</td>\n",
       "      <td>0.837600</td>\n",
       "      <td>0.162400</td>\n",
       "      <td>0.517491</td>\n",
       "      <td>0.482509</td>\n",
       "      <td>...</td>\n",
       "      <td>0.388367</td>\n",
       "      <td>0.551052</td>\n",
       "      <td>0.209329</td>\n",
       "      <td>0.239619</td>\n",
       "      <td>0.407281</td>\n",
       "      <td>0.592719</td>\n",
       "      <td>0.219283</td>\n",
       "      <td>0.216297</td>\n",
       "      <td>0.336320</td>\n",
       "      <td>0.228100</td>\n",
       "    </tr>\n",
       "    <tr>\n",
       "      <td>std</td>\n",
       "      <td>24.545260</td>\n",
       "      <td>30.085974</td>\n",
       "      <td>2266.771362</td>\n",
       "      <td>0.441782</td>\n",
       "      <td>0.500014</td>\n",
       "      <td>0.500014</td>\n",
       "      <td>0.368844</td>\n",
       "      <td>0.368844</td>\n",
       "      <td>0.499729</td>\n",
       "      <td>0.499729</td>\n",
       "      <td>...</td>\n",
       "      <td>0.487414</td>\n",
       "      <td>0.497422</td>\n",
       "      <td>0.406858</td>\n",
       "      <td>0.426881</td>\n",
       "      <td>0.491363</td>\n",
       "      <td>0.491363</td>\n",
       "      <td>0.413790</td>\n",
       "      <td>0.411748</td>\n",
       "      <td>0.472483</td>\n",
       "      <td>0.419637</td>\n",
       "    </tr>\n",
       "    <tr>\n",
       "      <td>min</td>\n",
       "      <td>1.000000</td>\n",
       "      <td>18.250000</td>\n",
       "      <td>18.800000</td>\n",
       "      <td>0.000000</td>\n",
       "      <td>0.000000</td>\n",
       "      <td>0.000000</td>\n",
       "      <td>0.000000</td>\n",
       "      <td>0.000000</td>\n",
       "      <td>0.000000</td>\n",
       "      <td>0.000000</td>\n",
       "      <td>...</td>\n",
       "      <td>0.000000</td>\n",
       "      <td>0.000000</td>\n",
       "      <td>0.000000</td>\n",
       "      <td>0.000000</td>\n",
       "      <td>0.000000</td>\n",
       "      <td>0.000000</td>\n",
       "      <td>0.000000</td>\n",
       "      <td>0.000000</td>\n",
       "      <td>0.000000</td>\n",
       "      <td>0.000000</td>\n",
       "    </tr>\n",
       "    <tr>\n",
       "      <td>25%</td>\n",
       "      <td>9.000000</td>\n",
       "      <td>35.587500</td>\n",
       "      <td>401.450000</td>\n",
       "      <td>0.000000</td>\n",
       "      <td>0.000000</td>\n",
       "      <td>0.000000</td>\n",
       "      <td>1.000000</td>\n",
       "      <td>0.000000</td>\n",
       "      <td>0.000000</td>\n",
       "      <td>0.000000</td>\n",
       "      <td>...</td>\n",
       "      <td>0.000000</td>\n",
       "      <td>0.000000</td>\n",
       "      <td>0.000000</td>\n",
       "      <td>0.000000</td>\n",
       "      <td>0.000000</td>\n",
       "      <td>0.000000</td>\n",
       "      <td>0.000000</td>\n",
       "      <td>0.000000</td>\n",
       "      <td>0.000000</td>\n",
       "      <td>0.000000</td>\n",
       "    </tr>\n",
       "    <tr>\n",
       "      <td>50%</td>\n",
       "      <td>29.000000</td>\n",
       "      <td>70.350000</td>\n",
       "      <td>1397.475000</td>\n",
       "      <td>0.000000</td>\n",
       "      <td>0.000000</td>\n",
       "      <td>1.000000</td>\n",
       "      <td>1.000000</td>\n",
       "      <td>0.000000</td>\n",
       "      <td>1.000000</td>\n",
       "      <td>0.000000</td>\n",
       "      <td>...</td>\n",
       "      <td>0.000000</td>\n",
       "      <td>1.000000</td>\n",
       "      <td>0.000000</td>\n",
       "      <td>0.000000</td>\n",
       "      <td>0.000000</td>\n",
       "      <td>1.000000</td>\n",
       "      <td>0.000000</td>\n",
       "      <td>0.000000</td>\n",
       "      <td>0.000000</td>\n",
       "      <td>0.000000</td>\n",
       "    </tr>\n",
       "    <tr>\n",
       "      <td>75%</td>\n",
       "      <td>55.000000</td>\n",
       "      <td>89.862500</td>\n",
       "      <td>3794.737500</td>\n",
       "      <td>1.000000</td>\n",
       "      <td>1.000000</td>\n",
       "      <td>1.000000</td>\n",
       "      <td>1.000000</td>\n",
       "      <td>0.000000</td>\n",
       "      <td>1.000000</td>\n",
       "      <td>1.000000</td>\n",
       "      <td>...</td>\n",
       "      <td>1.000000</td>\n",
       "      <td>1.000000</td>\n",
       "      <td>0.000000</td>\n",
       "      <td>0.000000</td>\n",
       "      <td>1.000000</td>\n",
       "      <td>1.000000</td>\n",
       "      <td>0.000000</td>\n",
       "      <td>0.000000</td>\n",
       "      <td>1.000000</td>\n",
       "      <td>0.000000</td>\n",
       "    </tr>\n",
       "    <tr>\n",
       "      <td>max</td>\n",
       "      <td>72.000000</td>\n",
       "      <td>118.750000</td>\n",
       "      <td>8684.800000</td>\n",
       "      <td>1.000000</td>\n",
       "      <td>1.000000</td>\n",
       "      <td>1.000000</td>\n",
       "      <td>1.000000</td>\n",
       "      <td>1.000000</td>\n",
       "      <td>1.000000</td>\n",
       "      <td>1.000000</td>\n",
       "      <td>...</td>\n",
       "      <td>1.000000</td>\n",
       "      <td>1.000000</td>\n",
       "      <td>1.000000</td>\n",
       "      <td>1.000000</td>\n",
       "      <td>1.000000</td>\n",
       "      <td>1.000000</td>\n",
       "      <td>1.000000</td>\n",
       "      <td>1.000000</td>\n",
       "      <td>1.000000</td>\n",
       "      <td>1.000000</td>\n",
       "    </tr>\n",
       "  </tbody>\n",
       "</table>\n",
       "<p>8 rows × 47 columns</p>\n",
       "</div>"
      ],
      "text/plain": [
       "            tenure  MonthlyCharges  TotalCharges        Churn  gender_Female  \\\n",
       "count  7032.000000     7032.000000   7032.000000  7032.000000    7032.000000   \n",
       "mean     32.421786       64.798208   2283.300441     0.265785       0.495307   \n",
       "std      24.545260       30.085974   2266.771362     0.441782       0.500014   \n",
       "min       1.000000       18.250000     18.800000     0.000000       0.000000   \n",
       "25%       9.000000       35.587500    401.450000     0.000000       0.000000   \n",
       "50%      29.000000       70.350000   1397.475000     0.000000       0.000000   \n",
       "75%      55.000000       89.862500   3794.737500     1.000000       1.000000   \n",
       "max      72.000000      118.750000   8684.800000     1.000000       1.000000   \n",
       "\n",
       "       gender_Male  SeniorCitizen_0  SeniorCitizen_1   Partner_No  \\\n",
       "count  7032.000000      7032.000000      7032.000000  7032.000000   \n",
       "mean      0.504693         0.837600         0.162400     0.517491   \n",
       "std       0.500014         0.368844         0.368844     0.499729   \n",
       "min       0.000000         0.000000         0.000000     0.000000   \n",
       "25%       0.000000         1.000000         0.000000     0.000000   \n",
       "50%       1.000000         1.000000         0.000000     1.000000   \n",
       "75%       1.000000         1.000000         0.000000     1.000000   \n",
       "max       1.000000         1.000000         1.000000     1.000000   \n",
       "\n",
       "       Partner_Yes  ...  StreamingMovies_Yes  Contract_Month-to-month  \\\n",
       "count  7032.000000  ...          7032.000000              7032.000000   \n",
       "mean      0.482509  ...             0.388367                 0.551052   \n",
       "std       0.499729  ...             0.487414                 0.497422   \n",
       "min       0.000000  ...             0.000000                 0.000000   \n",
       "25%       0.000000  ...             0.000000                 0.000000   \n",
       "50%       0.000000  ...             0.000000                 1.000000   \n",
       "75%       1.000000  ...             1.000000                 1.000000   \n",
       "max       1.000000  ...             1.000000                 1.000000   \n",
       "\n",
       "       Contract_One year  Contract_Two year  PaperlessBilling_No  \\\n",
       "count        7032.000000        7032.000000          7032.000000   \n",
       "mean            0.209329           0.239619             0.407281   \n",
       "std             0.406858           0.426881             0.491363   \n",
       "min             0.000000           0.000000             0.000000   \n",
       "25%             0.000000           0.000000             0.000000   \n",
       "50%             0.000000           0.000000             0.000000   \n",
       "75%             0.000000           0.000000             1.000000   \n",
       "max             1.000000           1.000000             1.000000   \n",
       "\n",
       "       PaperlessBilling_Yes  PaymentMethod_Bank transfer (automatic)  \\\n",
       "count           7032.000000                              7032.000000   \n",
       "mean               0.592719                                 0.219283   \n",
       "std                0.491363                                 0.413790   \n",
       "min                0.000000                                 0.000000   \n",
       "25%                0.000000                                 0.000000   \n",
       "50%                1.000000                                 0.000000   \n",
       "75%                1.000000                                 0.000000   \n",
       "max                1.000000                                 1.000000   \n",
       "\n",
       "       PaymentMethod_Credit card (automatic)  PaymentMethod_Electronic check  \\\n",
       "count                            7032.000000                     7032.000000   \n",
       "mean                                0.216297                        0.336320   \n",
       "std                                 0.411748                        0.472483   \n",
       "min                                 0.000000                        0.000000   \n",
       "25%                                 0.000000                        0.000000   \n",
       "50%                                 0.000000                        0.000000   \n",
       "75%                                 0.000000                        1.000000   \n",
       "max                                 1.000000                        1.000000   \n",
       "\n",
       "       PaymentMethod_Mailed check  \n",
       "count                 7032.000000  \n",
       "mean                     0.228100  \n",
       "std                      0.419637  \n",
       "min                      0.000000  \n",
       "25%                      0.000000  \n",
       "50%                      0.000000  \n",
       "75%                      0.000000  \n",
       "max                      1.000000  \n",
       "\n",
       "[8 rows x 47 columns]"
      ]
     },
     "execution_count": 27,
     "metadata": {},
     "output_type": "execute_result"
    }
   ],
   "source": [
    "churn_df.describe()"
   ]
  },
  {
   "cell_type": "code",
   "execution_count": null,
   "metadata": {},
   "outputs": [],
   "source": []
  },
  {
   "cell_type": "code",
   "execution_count": 28,
   "metadata": {},
   "outputs": [],
   "source": [
    "churn_df.to_csv('D:\\\\Git\\\\Telecom_Churn_Modeling\\\\Data\\\\cleaned_data.csv')"
   ]
  },
  {
   "cell_type": "code",
   "execution_count": 2,
   "metadata": {},
   "outputs": [],
   "source": [
    "churn_df = pd.read_csv(\"D:\\\\Git\\\\Telecom_Churn_Modeling\\\\Data\\\\cleaned_data.csv\")"
   ]
  },
  {
   "cell_type": "markdown",
   "metadata": {},
   "source": [
    "### Modeling"
   ]
  },
  {
   "cell_type": "code",
   "execution_count": 3,
   "metadata": {},
   "outputs": [
    {
     "name": "stderr",
     "output_type": "stream",
     "text": [
      "C:\\Users\\mayan\\Anaconda3\\lib\\site-packages\\sklearn\\utils\\deprecation.py:143: FutureWarning: The sklearn.metrics.scorer module is  deprecated in version 0.22 and will be removed in version 0.24. The corresponding classes / functions should instead be imported from sklearn.metrics. Anything that cannot be imported from sklearn.metrics is now part of the private API.\n",
      "  warnings.warn(message, FutureWarning)\n"
     ]
    }
   ],
   "source": [
    "from sklearn.model_selection import train_test_split\n",
    "from sklearn.linear_model import LogisticRegression\n",
    "from sklearn.model_selection import GridSearchCV\n",
    "from sklearn.metrics import confusion_matrix,accuracy_score,classification_report\n",
    "from sklearn.metrics import roc_auc_score,roc_curve,scorer\n",
    "from sklearn.metrics import f1_score\n",
    "import statsmodels.api as sm\n",
    "from sklearn.metrics import precision_score,recall_score"
   ]
  },
  {
   "cell_type": "code",
   "execution_count": 4,
   "metadata": {},
   "outputs": [],
   "source": [
    "cols = list(churn_df.columns)\n",
    "cols.remove('Churn')\n",
    "Y = churn_df['Churn']\n",
    "X = churn_df[cols]\n",
    "X = X.drop('Unnamed: 0',axis = 1)"
   ]
  },
  {
   "cell_type": "code",
   "execution_count": 5,
   "metadata": {},
   "outputs": [
    {
     "data": {
      "text/html": [
       "<div>\n",
       "<style scoped>\n",
       "    .dataframe tbody tr th:only-of-type {\n",
       "        vertical-align: middle;\n",
       "    }\n",
       "\n",
       "    .dataframe tbody tr th {\n",
       "        vertical-align: top;\n",
       "    }\n",
       "\n",
       "    .dataframe thead th {\n",
       "        text-align: right;\n",
       "    }\n",
       "</style>\n",
       "<table border=\"1\" class=\"dataframe\">\n",
       "  <thead>\n",
       "    <tr style=\"text-align: right;\">\n",
       "      <th></th>\n",
       "      <th>tenure</th>\n",
       "      <th>MonthlyCharges</th>\n",
       "      <th>TotalCharges</th>\n",
       "      <th>gender_Female</th>\n",
       "      <th>gender_Male</th>\n",
       "      <th>SeniorCitizen_0</th>\n",
       "      <th>SeniorCitizen_1</th>\n",
       "      <th>Partner_No</th>\n",
       "      <th>Partner_Yes</th>\n",
       "      <th>Dependents_No</th>\n",
       "      <th>...</th>\n",
       "      <th>StreamingMovies_Yes</th>\n",
       "      <th>Contract_Month-to-month</th>\n",
       "      <th>Contract_One year</th>\n",
       "      <th>Contract_Two year</th>\n",
       "      <th>PaperlessBilling_No</th>\n",
       "      <th>PaperlessBilling_Yes</th>\n",
       "      <th>PaymentMethod_Bank transfer (automatic)</th>\n",
       "      <th>PaymentMethod_Credit card (automatic)</th>\n",
       "      <th>PaymentMethod_Electronic check</th>\n",
       "      <th>PaymentMethod_Mailed check</th>\n",
       "    </tr>\n",
       "  </thead>\n",
       "  <tbody>\n",
       "    <tr>\n",
       "      <td>0</td>\n",
       "      <td>1</td>\n",
       "      <td>29.85</td>\n",
       "      <td>29.85</td>\n",
       "      <td>1</td>\n",
       "      <td>0</td>\n",
       "      <td>1</td>\n",
       "      <td>0</td>\n",
       "      <td>0</td>\n",
       "      <td>1</td>\n",
       "      <td>1</td>\n",
       "      <td>...</td>\n",
       "      <td>0</td>\n",
       "      <td>1</td>\n",
       "      <td>0</td>\n",
       "      <td>0</td>\n",
       "      <td>0</td>\n",
       "      <td>1</td>\n",
       "      <td>0</td>\n",
       "      <td>0</td>\n",
       "      <td>1</td>\n",
       "      <td>0</td>\n",
       "    </tr>\n",
       "    <tr>\n",
       "      <td>1</td>\n",
       "      <td>34</td>\n",
       "      <td>56.95</td>\n",
       "      <td>1889.50</td>\n",
       "      <td>0</td>\n",
       "      <td>1</td>\n",
       "      <td>1</td>\n",
       "      <td>0</td>\n",
       "      <td>1</td>\n",
       "      <td>0</td>\n",
       "      <td>1</td>\n",
       "      <td>...</td>\n",
       "      <td>0</td>\n",
       "      <td>0</td>\n",
       "      <td>1</td>\n",
       "      <td>0</td>\n",
       "      <td>1</td>\n",
       "      <td>0</td>\n",
       "      <td>0</td>\n",
       "      <td>0</td>\n",
       "      <td>0</td>\n",
       "      <td>1</td>\n",
       "    </tr>\n",
       "    <tr>\n",
       "      <td>2</td>\n",
       "      <td>2</td>\n",
       "      <td>53.85</td>\n",
       "      <td>108.15</td>\n",
       "      <td>0</td>\n",
       "      <td>1</td>\n",
       "      <td>1</td>\n",
       "      <td>0</td>\n",
       "      <td>1</td>\n",
       "      <td>0</td>\n",
       "      <td>1</td>\n",
       "      <td>...</td>\n",
       "      <td>0</td>\n",
       "      <td>1</td>\n",
       "      <td>0</td>\n",
       "      <td>0</td>\n",
       "      <td>0</td>\n",
       "      <td>1</td>\n",
       "      <td>0</td>\n",
       "      <td>0</td>\n",
       "      <td>0</td>\n",
       "      <td>1</td>\n",
       "    </tr>\n",
       "    <tr>\n",
       "      <td>3</td>\n",
       "      <td>45</td>\n",
       "      <td>42.30</td>\n",
       "      <td>1840.75</td>\n",
       "      <td>0</td>\n",
       "      <td>1</td>\n",
       "      <td>1</td>\n",
       "      <td>0</td>\n",
       "      <td>1</td>\n",
       "      <td>0</td>\n",
       "      <td>1</td>\n",
       "      <td>...</td>\n",
       "      <td>0</td>\n",
       "      <td>0</td>\n",
       "      <td>1</td>\n",
       "      <td>0</td>\n",
       "      <td>1</td>\n",
       "      <td>0</td>\n",
       "      <td>1</td>\n",
       "      <td>0</td>\n",
       "      <td>0</td>\n",
       "      <td>0</td>\n",
       "    </tr>\n",
       "    <tr>\n",
       "      <td>4</td>\n",
       "      <td>2</td>\n",
       "      <td>70.70</td>\n",
       "      <td>151.65</td>\n",
       "      <td>1</td>\n",
       "      <td>0</td>\n",
       "      <td>1</td>\n",
       "      <td>0</td>\n",
       "      <td>1</td>\n",
       "      <td>0</td>\n",
       "      <td>1</td>\n",
       "      <td>...</td>\n",
       "      <td>0</td>\n",
       "      <td>1</td>\n",
       "      <td>0</td>\n",
       "      <td>0</td>\n",
       "      <td>0</td>\n",
       "      <td>1</td>\n",
       "      <td>0</td>\n",
       "      <td>0</td>\n",
       "      <td>1</td>\n",
       "      <td>0</td>\n",
       "    </tr>\n",
       "  </tbody>\n",
       "</table>\n",
       "<p>5 rows × 46 columns</p>\n",
       "</div>"
      ],
      "text/plain": [
       "   tenure  MonthlyCharges  TotalCharges  gender_Female  gender_Male  \\\n",
       "0       1           29.85         29.85              1            0   \n",
       "1      34           56.95       1889.50              0            1   \n",
       "2       2           53.85        108.15              0            1   \n",
       "3      45           42.30       1840.75              0            1   \n",
       "4       2           70.70        151.65              1            0   \n",
       "\n",
       "   SeniorCitizen_0  SeniorCitizen_1  Partner_No  Partner_Yes  Dependents_No  \\\n",
       "0                1                0           0            1              1   \n",
       "1                1                0           1            0              1   \n",
       "2                1                0           1            0              1   \n",
       "3                1                0           1            0              1   \n",
       "4                1                0           1            0              1   \n",
       "\n",
       "   ...  StreamingMovies_Yes  Contract_Month-to-month  Contract_One year  \\\n",
       "0  ...                    0                        1                  0   \n",
       "1  ...                    0                        0                  1   \n",
       "2  ...                    0                        1                  0   \n",
       "3  ...                    0                        0                  1   \n",
       "4  ...                    0                        1                  0   \n",
       "\n",
       "   Contract_Two year  PaperlessBilling_No  PaperlessBilling_Yes  \\\n",
       "0                  0                    0                     1   \n",
       "1                  0                    1                     0   \n",
       "2                  0                    0                     1   \n",
       "3                  0                    1                     0   \n",
       "4                  0                    0                     1   \n",
       "\n",
       "   PaymentMethod_Bank transfer (automatic)  \\\n",
       "0                                        0   \n",
       "1                                        0   \n",
       "2                                        0   \n",
       "3                                        1   \n",
       "4                                        0   \n",
       "\n",
       "   PaymentMethod_Credit card (automatic)  PaymentMethod_Electronic check  \\\n",
       "0                                      0                               1   \n",
       "1                                      0                               0   \n",
       "2                                      0                               0   \n",
       "3                                      0                               0   \n",
       "4                                      0                               1   \n",
       "\n",
       "   PaymentMethod_Mailed check  \n",
       "0                           0  \n",
       "1                           1  \n",
       "2                           1  \n",
       "3                           0  \n",
       "4                           0  \n",
       "\n",
       "[5 rows x 46 columns]"
      ]
     },
     "execution_count": 5,
     "metadata": {},
     "output_type": "execute_result"
    }
   ],
   "source": [
    "X.head()"
   ]
  },
  {
   "cell_type": "code",
   "execution_count": 6,
   "metadata": {},
   "outputs": [],
   "source": [
    "X_train, X_test, y_train, y_test = train_test_split(X, Y, test_size=0.25, random_state=101)"
   ]
  },
  {
   "cell_type": "code",
   "execution_count": 7,
   "metadata": {},
   "outputs": [],
   "source": [
    "def get_results(y_test,y_hat,y_prob):\n",
    "    conf_matrix = confusion_matrix(y_test,y_hat)\n",
    "    print (\"\\n Confusion Matrix : \\n\",conf_matrix)\n",
    "    #print (\"\\n Classification report : \\n\",classification_report(y_test,y_hat))\n",
    "    print (\"Accuracy   Score : \",accuracy_score(y_test,y_hat))\n",
    "    print (\"Precision : \",precision_score(y_test,y_hat))\n",
    "    print(\"Recall :\",recall_score(y_test,y_hat))\n",
    "    print(\"F1 Score:\",f1_score(y_test,y_hat))\n",
    "    #confusion matrix\n",
    "    #roc_auc_score\n",
    "    model_roc_auc = roc_auc_score(y_test,y_hat) \n",
    "    print (\"Area under curve : \",model_roc_auc,\"\\n\")\n",
    "    fpr,tpr,thresholds = roc_curve(y_test,y_prob[:,1])\n",
    "    plt.title('Receiver Operating Characteristic')\n",
    "    plt.plot(fpr, tpr, 'b', label = 'AUC = %0.2f' % model_roc_auc)\n",
    "    plt.legend(loc = 'lower right')\n",
    "    plt.plot([0, 1], [0, 1],'r--')\n",
    "    plt.xlim([0, 1])\n",
    "    plt.ylim([0, 1])\n",
    "    plt.ylabel('True Positive Rate')\n",
    "    plt.xlabel('False Positive Rate')\n",
    "    plt.show()\n"
   ]
  },
  {
   "cell_type": "code",
   "execution_count": 34,
   "metadata": {},
   "outputs": [
    {
     "name": "stdout",
     "output_type": "stream",
     "text": [
      "Fitting 10 folds for each of 5 candidates, totalling 50 fits\n"
     ]
    },
    {
     "name": "stderr",
     "output_type": "stream",
     "text": [
      "[Parallel(n_jobs=-1)]: Using backend LokyBackend with 8 concurrent workers.\n",
      "[Parallel(n_jobs=-1)]: Done  34 tasks      | elapsed:   58.7s\n",
      "[Parallel(n_jobs=-1)]: Done  50 out of  50 | elapsed:  1.1min finished\n",
      "C:\\Users\\mayan\\Anaconda3\\lib\\site-packages\\scipy\\optimize\\linesearch.py:466: LineSearchWarning: The line search algorithm did not converge\n",
      "  warn('The line search algorithm did not converge', LineSearchWarning)\n",
      "C:\\Users\\mayan\\Anaconda3\\lib\\site-packages\\scipy\\optimize\\linesearch.py:314: LineSearchWarning: The line search algorithm did not converge\n",
      "  warn('The line search algorithm did not converge', LineSearchWarning)\n"
     ]
    },
    {
     "data": {
      "text/plain": [
       "GridSearchCV(cv=10, error_score='raise-deprecating',\n",
       "             estimator=LogisticRegression(C=1.0, class_weight=None, dual=False,\n",
       "                                          fit_intercept=True,\n",
       "                                          intercept_scaling=1, l1_ratio=None,\n",
       "                                          max_iter=100, multi_class='warn',\n",
       "                                          n_jobs=None, penalty='l2',\n",
       "                                          random_state=101, solver='warn',\n",
       "                                          tol=0.0001, verbose=0,\n",
       "                                          warm_start=False),\n",
       "             iid='warn', n_jobs=-1,\n",
       "             param_grid={'solver': ['newton-cg', 'lbfgs', 'liblinear', 'sag',\n",
       "                                    'saga']},\n",
       "             pre_dispatch='2*n_jobs', refit=True, return_train_score=False,\n",
       "             scoring='accuracy', verbose=1)"
      ]
     },
     "execution_count": 34,
     "metadata": {},
     "output_type": "execute_result"
    }
   ],
   "source": [
    "lrc = LogisticRegression(random_state = 101)\n",
    "params = {\n",
    "    'solver': ['newton-cg', 'lbfgs', 'liblinear', 'sag', 'saga']\n",
    "}\n",
    "\n",
    "\n",
    "grid_lr = GridSearchCV(estimator = lrc,\n",
    "                        param_grid = params,\n",
    "                        scoring = 'accuracy', \n",
    "                        cv = 10, \n",
    "                        verbose = 1,\n",
    "                        n_jobs = -1)\n",
    "grid_lr.fit(X_train, y_train)"
   ]
  },
  {
   "cell_type": "code",
   "execution_count": 35,
   "metadata": {},
   "outputs": [
    {
     "name": "stdout",
     "output_type": "stream",
     "text": [
      "LogisticRegression(C=1.0, class_weight=None, dual=False, fit_intercept=True,\n",
      "                   intercept_scaling=1, l1_ratio=None, max_iter=100,\n",
      "                   multi_class='warn', n_jobs=None, penalty='l2',\n",
      "                   random_state=101, solver='newton-cg', tol=0.0001, verbose=0,\n",
      "                   warm_start=False)\n"
     ]
    }
   ],
   "source": [
    "print(grid_lr.best_estimator_)"
   ]
  },
  {
   "cell_type": "code",
   "execution_count": 36,
   "metadata": {},
   "outputs": [
    {
     "name": "stdout",
     "output_type": "stream",
     "text": [
      "\n",
      " Confusion Matrix : \n",
      " [[1199  130]\n",
      " [ 194  235]]\n",
      "Accuracy   Score :  0.8156996587030717\n",
      "Precision :  0.6438356164383562\n",
      "Recall : 0.5477855477855478\n",
      "F1 Score: 0.5919395465994963\n",
      "Area under curve :  0.7249838197919461 \n",
      "\n"
     ]
    },
    {
     "data": {
      "image/png": "[encoded data removed]",
      "text/plain": [
       "<Figure size 432x288 with 1 Axes>"
      ]
     },
     "metadata": {
      "needs_background": "light"
     },
     "output_type": "display_data"
    }
   ],
   "source": [
    "best_lr = grid_lr.best_estimator_\n",
    "pkl.dump(best_lr, open('D:\\\\Git\\\\Telecom_Churn_Modeling\\\\Data\\\\LogisticRegressionModel', 'wb'))\n",
    "y_hat_lr = best_lr.predict(X_test)\n",
    "y_prob_lr = best_lr.predict_proba(X_test)\n",
    "get_results(y_test,y_hat_lr,y_prob_lr)"
   ]
  },
  {
   "cell_type": "markdown",
   "metadata": {},
   "source": [
    "### Decision Tree Classifier"
   ]
  },
  {
   "cell_type": "code",
   "execution_count": 37,
   "metadata": {},
   "outputs": [],
   "source": [
    "from sklearn.tree import DecisionTreeClassifier\n"
   ]
  },
  {
   "cell_type": "code",
   "execution_count": 38,
   "metadata": {},
   "outputs": [
    {
     "name": "stdout",
     "output_type": "stream",
     "text": [
      "Fitting 10 folds for each of 12 candidates, totalling 120 fits\n"
     ]
    },
    {
     "name": "stderr",
     "output_type": "stream",
     "text": [
      "[Parallel(n_jobs=-1)]: Using backend LokyBackend with 8 concurrent workers.\n",
      "[Parallel(n_jobs=-1)]: Done  55 tasks      | elapsed:    1.5s\n",
      "[Parallel(n_jobs=-1)]: Done 105 out of 120 | elapsed:    2.3s remaining:    0.2s\n",
      "[Parallel(n_jobs=-1)]: Done 120 out of 120 | elapsed:    2.5s finished\n"
     ]
    },
    {
     "data": {
      "text/plain": [
       "GridSearchCV(cv=10, error_score='raise-deprecating',\n",
       "             estimator=DecisionTreeClassifier(class_weight=None,\n",
       "                                              criterion='gini', max_depth=None,\n",
       "                                              max_features=None,\n",
       "                                              max_leaf_nodes=None,\n",
       "                                              min_impurity_decrease=0.0,\n",
       "                                              min_impurity_split=None,\n",
       "                                              min_samples_leaf=1,\n",
       "                                              min_samples_split=2,\n",
       "                                              min_weight_fraction_leaf=0.0,\n",
       "                                              presort=False, random_state=101,\n",
       "                                              splitter='best'),\n",
       "             iid='warn', n_jobs=-1,\n",
       "             param_grid={'criterion': ['gini', 'entropy'],\n",
       "                         'max_features': ['auto', 'sqrt', 'log2'],\n",
       "                         'splitter': ['best', 'random']},\n",
       "             pre_dispatch='2*n_jobs', refit=True, return_train_score=False,\n",
       "             scoring='accuracy', verbose=1)"
      ]
     },
     "execution_count": 38,
     "metadata": {},
     "output_type": "execute_result"
    }
   ],
   "source": [
    "dtc = DecisionTreeClassifier(random_state = 101)\n",
    "\n",
    "params = {\n",
    "    'criterion' : ['gini','entropy'],\n",
    "    'splitter': ['best','random'],\n",
    "    'max_features': ['auto', 'sqrt', 'log2']\n",
    "}\n",
    "\n",
    "grid_dtc = GridSearchCV(estimator = dtc,\n",
    "                        param_grid = params,\n",
    "                        scoring = 'accuracy', \n",
    "                        cv = 10, \n",
    "                        verbose = 1,\n",
    "                        n_jobs = -1)\n",
    "\n",
    "grid_dtc.fit(X_train, y_train)"
   ]
  },
  {
   "cell_type": "code",
   "execution_count": 39,
   "metadata": {},
   "outputs": [
    {
     "name": "stdout",
     "output_type": "stream",
     "text": [
      "DecisionTreeClassifier(class_weight=None, criterion='entropy', max_depth=None,\n",
      "                       max_features='log2', max_leaf_nodes=None,\n",
      "                       min_impurity_decrease=0.0, min_impurity_split=None,\n",
      "                       min_samples_leaf=1, min_samples_split=2,\n",
      "                       min_weight_fraction_leaf=0.0, presort=False,\n",
      "                       random_state=101, splitter='best')\n"
     ]
    }
   ],
   "source": [
    "print(grid_dtc.best_estimator_)"
   ]
  },
  {
   "cell_type": "code",
   "execution_count": 40,
   "metadata": {},
   "outputs": [
    {
     "name": "stdout",
     "output_type": "stream",
     "text": [
      "\n",
      " Confusion Matrix : \n",
      " [[1086  243]\n",
      " [ 224  205]]\n",
      "Accuracy   Score :  0.7343572241183163\n",
      "Precision :  0.4575892857142857\n",
      "Recall : 0.47785547785547783\n",
      "F1 Score: 0.4675028506271379\n",
      "Area under curve :  0.6475056170315765 \n",
      "\n"
     ]
    },
    {
     "data": {
      "image/png": "[encoded data removed]",
      "text/plain": [
       "<Figure size 432x288 with 1 Axes>"
      ]
     },
     "metadata": {
      "needs_background": "light"
     },
     "output_type": "display_data"
    }
   ],
   "source": [
    "best_dt = grid_dtc.best_estimator_\n",
    "pkl.dump(best_dt, open('D:\\\\Git\\\\Telecom_Churn_Modeling\\\\Data\\\\DecisionTreeModel', 'wb'))\n",
    "y_hat_dt = best_dt.predict(X_test)\n",
    "y_prob_dt = best_dt.predict_proba(X_test)\n",
    "get_results(y_test,y_hat_dt,y_prob_dt)"
   ]
  },
  {
   "cell_type": "markdown",
   "metadata": {},
   "source": [
    "### KNN Classifier"
   ]
  },
  {
   "cell_type": "code",
   "execution_count": 41,
   "metadata": {},
   "outputs": [],
   "source": [
    "from sklearn.neighbors import KNeighborsClassifier"
   ]
  },
  {
   "cell_type": "code",
   "execution_count": 42,
   "metadata": {},
   "outputs": [
    {
     "name": "stdout",
     "output_type": "stream",
     "text": [
      "Fitting 10 folds for each of 80 candidates, totalling 800 fits\n"
     ]
    },
    {
     "name": "stderr",
     "output_type": "stream",
     "text": [
      "[Parallel(n_jobs=-1)]: Using backend LokyBackend with 8 concurrent workers.\n",
      "[Parallel(n_jobs=-1)]: Done  34 tasks      | elapsed:    0.9s\n",
      "[Parallel(n_jobs=-1)]: Done 184 tasks      | elapsed:    5.2s\n",
      "[Parallel(n_jobs=-1)]: Done 434 tasks      | elapsed:   11.1s\n",
      "[Parallel(n_jobs=-1)]: Done 784 tasks      | elapsed:   25.7s\n",
      "[Parallel(n_jobs=-1)]: Done 800 out of 800 | elapsed:   26.6s finished\n"
     ]
    },
    {
     "data": {
      "text/plain": [
       "GridSearchCV(cv=10, error_score='raise-deprecating',\n",
       "             estimator=KNeighborsClassifier(algorithm='auto', leaf_size=30,\n",
       "                                            metric='minkowski',\n",
       "                                            metric_params=None, n_jobs=None,\n",
       "                                            n_neighbors=5, p=2,\n",
       "                                            weights='uniform'),\n",
       "             iid='warn', n_jobs=-1,\n",
       "             param_grid={'algorithm': ['auto', 'ball_tree', 'kd_tree', 'brute'],\n",
       "                         'n_neighbors': range(5, 25, 2),\n",
       "                         'weights': ['uniform', 'distance']},\n",
       "             pre_dispatch='2*n_jobs', refit=True, return_train_score=False,\n",
       "             scoring='accuracy', verbose=1)"
      ]
     },
     "execution_count": 42,
     "metadata": {},
     "output_type": "execute_result"
    }
   ],
   "source": [
    "knc = KNeighborsClassifier()\n",
    "params = {\n",
    "    'n_neighbors' : range(5, 25,2),\n",
    "    'weights': ['uniform', 'distance'],\n",
    "    'algorithm': ['auto', 'ball_tree', 'kd_tree', 'brute']\n",
    "}\n",
    "\n",
    "grid_knc = GridSearchCV(estimator = knc,\n",
    "                        param_grid = params,\n",
    "                        scoring = 'accuracy', \n",
    "                        cv = 10, \n",
    "                        verbose = 1,\n",
    "                        n_jobs = -1)\n",
    "grid_knc.fit(X_train,y_train)"
   ]
  },
  {
   "cell_type": "code",
   "execution_count": 43,
   "metadata": {},
   "outputs": [
    {
     "name": "stdout",
     "output_type": "stream",
     "text": [
      "KNeighborsClassifier(algorithm='auto', leaf_size=30, metric='minkowski',\n",
      "                     metric_params=None, n_jobs=None, n_neighbors=19, p=2,\n",
      "                     weights='uniform')\n"
     ]
    }
   ],
   "source": [
    "best_knc = grid_knc.best_estimator_\n",
    "print(best_knc)"
   ]
  },
  {
   "cell_type": "code",
   "execution_count": 44,
   "metadata": {},
   "outputs": [],
   "source": [
    "pkl.dump(best_knc, open('D:\\\\Git\\\\Telecom_Churn_Modeling\\\\Data\\\\KNeighborClassifierModel', 'wb'))\n",
    "y_hat_knc = best_knc.predict(X_test)\n",
    "y_prob_knc = best_knc.predict_proba(X_test)"
   ]
  },
  {
   "cell_type": "code",
   "execution_count": 45,
   "metadata": {},
   "outputs": [
    {
     "name": "stdout",
     "output_type": "stream",
     "text": [
      "\n",
      " Confusion Matrix : \n",
      " [[1224  105]\n",
      " [ 261  168]]\n",
      "Accuracy   Score :  0.7918088737201365\n",
      "Precision :  0.6153846153846154\n",
      "Recall : 0.3916083916083916\n",
      "F1 Score: 0.47863247863247865\n",
      "Area under curve :  0.6563008097996812 \n",
      "\n"
     ]
    },
    {
     "data": {
      "image/png": "[encoded data removed]",
      "text/plain": [
       "<Figure size 432x288 with 1 Axes>"
      ]
     },
     "metadata": {
      "needs_background": "light"
     },
     "output_type": "display_data"
    }
   ],
   "source": [
    "get_results(y_test,y_hat_knc,y_prob_knc)"
   ]
  },
  {
   "cell_type": "markdown",
   "metadata": {},
   "source": [
    "### SVC"
   ]
  },
  {
   "cell_type": "code",
   "execution_count": 46,
   "metadata": {},
   "outputs": [],
   "source": [
    "from sklearn.svm import SVC"
   ]
  },
  {
   "cell_type": "code",
   "execution_count": 49,
   "metadata": {},
   "outputs": [
    {
     "name": "stdout",
     "output_type": "stream",
     "text": [
      "Fitting 10 folds for each of 2 candidates, totalling 20 fits\n"
     ]
    },
    {
     "name": "stderr",
     "output_type": "stream",
     "text": [
      "[Parallel(n_jobs=-1)]: Using backend LokyBackend with 8 concurrent workers.\n",
      "[Parallel(n_jobs=-1)]: Done  12 out of  20 | elapsed:  2.6min remaining:  1.8min\n",
      "[Parallel(n_jobs=-1)]: Done  20 out of  20 | elapsed:  3.6min finished\n",
      "C:\\Users\\mayan\\Anaconda3\\lib\\site-packages\\sklearn\\svm\\base.py:193: FutureWarning: The default value of gamma will change from 'auto' to 'scale' in version 0.22 to account better for unscaled features. Set gamma explicitly to 'auto' or 'scale' to avoid this warning.\n",
      "  \"avoid this warning.\", FutureWarning)\n"
     ]
    },
    {
     "data": {
      "text/plain": [
       "GridSearchCV(cv=10, error_score='raise-deprecating',\n",
       "             estimator=SVC(C=1.0, cache_size=200, class_weight=None, coef0=0.0,\n",
       "                           decision_function_shape='ovr', degree=3,\n",
       "                           gamma='auto_deprecated', kernel='rbf', max_iter=-1,\n",
       "                           probability=True, random_state=None, shrinking=True,\n",
       "                           tol=0.001, verbose=False),\n",
       "             iid='warn', n_jobs=-1,\n",
       "             param_grid={'class_weight': [None, 'balanced']},\n",
       "             pre_dispatch='2*n_jobs', refit=True, return_train_score=False,\n",
       "             scoring='accuracy', verbose=3)"
      ]
     },
     "execution_count": 49,
     "metadata": {},
     "output_type": "execute_result"
    }
   ],
   "source": [
    "svc = SVC(probability = True)\n",
    "\n",
    "params = {\n",
    "    'class_weight': [None, 'balanced']\n",
    "}\n",
    "\n",
    "grid_svc = GridSearchCV(estimator = svc,\n",
    "                       param_grid = params,\n",
    "                       n_jobs = -1,\n",
    "                       verbose = 3,\n",
    "                       scoring = 'accuracy',\n",
    "                       cv = 10)\n",
    "\n",
    "grid_svc.fit(X_train,y_train)"
   ]
  },
  {
   "cell_type": "code",
   "execution_count": 56,
   "metadata": {},
   "outputs": [
    {
     "name": "stdout",
     "output_type": "stream",
     "text": [
      "\n",
      " Confusion Matrix : \n",
      " [[1246   83]\n",
      " [ 276  153]]\n",
      "Accuracy   Score :  0.7957906712172924\n",
      "Precision :  0.6483050847457628\n",
      "Recall : 0.35664335664335667\n",
      "F1 Score: 0.46015037593984964\n",
      "Area under curve :  0.6470951922419191 \n",
      "\n"
     ]
    },
    {
     "data": {
      "image/png": "[encoded data removed]",
      "text/plain": [
       "<Figure size 432x288 with 1 Axes>"
      ]
     },
     "metadata": {
      "needs_background": "light"
     },
     "output_type": "display_data"
    }
   ],
   "source": [
    "best_svc = grid_svc.best_estimator_\n",
    "pkl.dump(best_svc, open('D:\\\\Git\\\\Telecom_Churn_Modeling\\\\Data\\\\SVModel', 'wb'))\n",
    "y_hat_svc  = best_svc.predict(X_test)\n",
    "y_prob_svc = best_svc.predict_proba(X_test)\n",
    "get_results(y_test,y_hat_svc,y_prob_svc)"
   ]
  },
  {
   "cell_type": "markdown",
   "metadata": {},
   "source": [
    "### Neural Network Classifier"
   ]
  },
  {
   "cell_type": "code",
   "execution_count": 51,
   "metadata": {},
   "outputs": [],
   "source": [
    "from sklearn.neural_network import MLPClassifier"
   ]
  },
  {
   "cell_type": "code",
   "execution_count": 52,
   "metadata": {},
   "outputs": [],
   "source": [
    "nnc = MLPClassifier()\n",
    "\n",
    "params = {\n",
    "    'activation' : ['logistic', 'relu', 'tanh'],\n",
    "    'solver' : ['adam' , 'sgd'],\n",
    "    'early_stopping': [True]\n",
    "}"
   ]
  },
  {
   "cell_type": "code",
   "execution_count": 53,
   "metadata": {},
   "outputs": [
    {
     "name": "stdout",
     "output_type": "stream",
     "text": [
      "Fitting 10 folds for each of 6 candidates, totalling 60 fits\n"
     ]
    },
    {
     "name": "stderr",
     "output_type": "stream",
     "text": [
      "[Parallel(n_jobs=-1)]: Using backend LokyBackend with 8 concurrent workers.\n",
      "[Parallel(n_jobs=-1)]: Done  16 tasks      | elapsed:   38.1s\n",
      "[Parallel(n_jobs=-1)]: Done  60 out of  60 | elapsed:   54.6s finished\n"
     ]
    },
    {
     "data": {
      "text/plain": [
       "GridSearchCV(cv=10, error_score='raise-deprecating',\n",
       "             estimator=MLPClassifier(activation='relu', alpha=0.0001,\n",
       "                                     batch_size='auto', beta_1=0.9,\n",
       "                                     beta_2=0.999, early_stopping=False,\n",
       "                                     epsilon=1e-08, hidden_layer_sizes=(100,),\n",
       "                                     learning_rate='constant',\n",
       "                                     learning_rate_init=0.001, max_iter=200,\n",
       "                                     momentum=0.9, n_iter_no_change=10,\n",
       "                                     nesterovs_momentum=True, power_t=0.5,\n",
       "                                     random_state=None, shuffle=True,\n",
       "                                     solver='adam', tol=0.0001,\n",
       "                                     validation_fraction=0.1, verbose=False,\n",
       "                                     warm_start=False),\n",
       "             iid='warn', n_jobs=-1,\n",
       "             param_grid={'activation': ['logistic', 'relu', 'tanh'],\n",
       "                         'early_stopping': [True], 'solver': ['adam', 'sgd']},\n",
       "             pre_dispatch='2*n_jobs', refit=True, return_train_score=False,\n",
       "             scoring='accuracy', verbose=3)"
      ]
     },
     "execution_count": 53,
     "metadata": {},
     "output_type": "execute_result"
    }
   ],
   "source": [
    "grid_nn = GridSearchCV(estimator = nnc,\n",
    "                       param_grid = params,\n",
    "                       n_jobs = -1,\n",
    "                       verbose = 3,\n",
    "                       scoring = 'accuracy',\n",
    "                       cv = 10)\n",
    "grid_nn.fit(X_train, y_train)"
   ]
  },
  {
   "cell_type": "code",
   "execution_count": 54,
   "metadata": {},
   "outputs": [
    {
     "name": "stdout",
     "output_type": "stream",
     "text": [
      "MLPClassifier(activation='logistic', alpha=0.0001, batch_size='auto',\n",
      "              beta_1=0.9, beta_2=0.999, early_stopping=True, epsilon=1e-08,\n",
      "              hidden_layer_sizes=(100,), learning_rate='constant',\n",
      "              learning_rate_init=0.001, max_iter=200, momentum=0.9,\n",
      "              n_iter_no_change=10, nesterovs_momentum=True, power_t=0.5,\n",
      "              random_state=None, shuffle=True, solver='adam', tol=0.0001,\n",
      "              validation_fraction=0.1, verbose=False, warm_start=False)\n"
     ]
    }
   ],
   "source": [
    "best_nn = grid_nn.best_estimator_\n",
    "print(best_nn)"
   ]
  },
  {
   "cell_type": "code",
   "execution_count": 55,
   "metadata": {},
   "outputs": [
    {
     "name": "stdout",
     "output_type": "stream",
     "text": [
      "\n",
      " Confusion Matrix : \n",
      " [[1227  102]\n",
      " [ 231  198]]\n",
      "Accuracy   Score :  0.810580204778157\n",
      "Precision :  0.66\n",
      "Recall : 0.46153846153846156\n",
      "F1 Score: 0.5432098765432098\n",
      "Area under curve :  0.6923945129362737 \n",
      "\n"
     ]
    },
    {
     "data": {
      "image/png": "[encoded data removed]",
      "text/plain": [
       "<Figure size 432x288 with 1 Axes>"
      ]
     },
     "metadata": {
      "needs_background": "light"
     },
     "output_type": "display_data"
    }
   ],
   "source": [
    "pkl.dump(best_nn, open('D:\\\\Git\\\\Telecom_Churn_Modeling\\\\Data\\\\NNModel', 'wb'))\n",
    "y_hat_nn  = best_nn.predict(X_test)\n",
    "y_prob_nn = best_nn.predict_proba(X_test)\n",
    "get_results(y_test,y_hat_nn,y_prob_nn)"
   ]
  },
  {
   "cell_type": "markdown",
   "metadata": {},
   "source": [
    "### Ensemble Methods"
   ]
  },
  {
   "cell_type": "markdown",
   "metadata": {},
   "source": [
    "#### Random Forest"
   ]
  },
  {
   "cell_type": "code",
   "execution_count": 57,
   "metadata": {},
   "outputs": [],
   "source": [
    "from sklearn.ensemble import RandomForestClassifier"
   ]
  },
  {
   "cell_type": "code",
   "execution_count": 58,
   "metadata": {},
   "outputs": [
    {
     "name": "stdout",
     "output_type": "stream",
     "text": [
      "Fitting 10 folds for each of 6 candidates, totalling 60 fits\n"
     ]
    },
    {
     "name": "stderr",
     "output_type": "stream",
     "text": [
      "[Parallel(n_jobs=-1)]: Using backend LokyBackend with 8 concurrent workers.\n",
      "[Parallel(n_jobs=-1)]: Done  16 tasks      | elapsed:   34.1s\n",
      "[Parallel(n_jobs=-1)]: Done  60 out of  60 | elapsed:   54.5s finished\n",
      "C:\\Users\\mayan\\Anaconda3\\lib\\site-packages\\sklearn\\ensemble\\forest.py:245: FutureWarning: The default value of n_estimators will change from 10 in version 0.20 to 100 in 0.22.\n",
      "  \"10 in version 0.20 to 100 in 0.22.\", FutureWarning)\n",
      "C:\\Users\\mayan\\Anaconda3\\lib\\site-packages\\sklearn\\ensemble\\forest.py:460: UserWarning: Some inputs do not have OOB scores. This probably means too few trees were used to compute any reliable oob estimates.\n",
      "  warn(\"Some inputs do not have OOB scores. \"\n",
      "C:\\Users\\mayan\\Anaconda3\\lib\\site-packages\\sklearn\\ensemble\\forest.py:465: RuntimeWarning: invalid value encountered in true_divide\n",
      "  predictions[k].sum(axis=1)[:, np.newaxis])\n"
     ]
    },
    {
     "data": {
      "text/plain": [
       "GridSearchCV(cv=10, error_score='raise-deprecating',\n",
       "             estimator=RandomForestClassifier(bootstrap=True, class_weight=None,\n",
       "                                              criterion='gini', max_depth=None,\n",
       "                                              max_features='auto',\n",
       "                                              max_leaf_nodes=None,\n",
       "                                              min_impurity_decrease=0.0,\n",
       "                                              min_impurity_split=None,\n",
       "                                              min_samples_leaf=1,\n",
       "                                              min_samples_split=2,\n",
       "                                              min_weight_fraction_leaf=0.0,\n",
       "                                              n_estimators='warn', n_jobs=None,\n",
       "                                              oob_score=False, random_state=101,\n",
       "                                              verbose=0, warm_start=False),\n",
       "             iid='warn', n_jobs=-1,\n",
       "             param_grid={'criterion': ['gini', 'entropy'],\n",
       "                         'max_features': ['auto', 'log2', 'sqrt'],\n",
       "                         'oob_score': [True]},\n",
       "             pre_dispatch='2*n_jobs', refit=True, return_train_score=False,\n",
       "             scoring='accuracy', verbose=3)"
      ]
     },
     "execution_count": 58,
     "metadata": {},
     "output_type": "execute_result"
    }
   ],
   "source": [
    "rfc = RandomForestClassifier(random_state = 101)\n",
    "\n",
    "params = {\n",
    "        'criterion' : ['gini', 'entropy'],\n",
    "        'max_features' : ['auto', 'log2' , 'sqrt'],\n",
    "        'oob_score' :[True]\n",
    "}\n",
    "\n",
    "grid_rfc = grid_svc = GridSearchCV(estimator = rfc,\n",
    "                       param_grid = params,\n",
    "                       n_jobs = -1,\n",
    "                       verbose = 3,\n",
    "                       scoring = 'accuracy',\n",
    "                       cv = 10)\n",
    "grid_rfc.fit(X_train,y_train)"
   ]
  },
  {
   "cell_type": "code",
   "execution_count": 59,
   "metadata": {},
   "outputs": [
    {
     "name": "stdout",
     "output_type": "stream",
     "text": [
      "RandomForestClassifier(bootstrap=True, class_weight=None, criterion='entropy',\n",
      "                       max_depth=None, max_features='auto', max_leaf_nodes=None,\n",
      "                       min_impurity_decrease=0.0, min_impurity_split=None,\n",
      "                       min_samples_leaf=1, min_samples_split=2,\n",
      "                       min_weight_fraction_leaf=0.0, n_estimators=10,\n",
      "                       n_jobs=None, oob_score=True, random_state=101, verbose=0,\n",
      "                       warm_start=False)\n"
     ]
    }
   ],
   "source": [
    "best_rfc = grid_rfc.best_estimator_\n",
    "print(best_rfc)"
   ]
  },
  {
   "cell_type": "code",
   "execution_count": 60,
   "metadata": {},
   "outputs": [
    {
     "name": "stdout",
     "output_type": "stream",
     "text": [
      "\n",
      " Confusion Matrix : \n",
      " [[1200  129]\n",
      " [ 241  188]]\n",
      "Accuracy   Score :  0.7895335608646189\n",
      "Precision :  0.5930599369085173\n",
      "Recall : 0.4382284382284382\n",
      "F1 Score: 0.5040214477211796\n",
      "Area under curve :  0.6705814877372439 \n",
      "\n"
     ]
    },
    {
     "data": {
      "image/png": "[encoded data removed]",
      "text/plain": [
       "<Figure size 432x288 with 1 Axes>"
      ]
     },
     "metadata": {
      "needs_background": "light"
     },
     "output_type": "display_data"
    }
   ],
   "source": [
    "pkl.dump(best_rfc, open('D:\\\\Git\\\\Telecom_Churn_Modeling\\\\Data\\\\RFCModel', 'wb'))\n",
    "y_hat_rfc  = best_rfc.predict(X_test)\n",
    "y_prob_rfc = best_rfc.predict_proba(X_test)\n",
    "get_results(y_test,y_hat_rfc,y_prob_rfc)"
   ]
  },
  {
   "cell_type": "markdown",
   "metadata": {},
   "source": [
    "#### AdaBoost"
   ]
  },
  {
   "cell_type": "code",
   "execution_count": 18,
   "metadata": {},
   "outputs": [],
   "source": [
    "from sklearn.ensemble import AdaBoostClassifier"
   ]
  },
  {
   "cell_type": "code",
   "execution_count": 63,
   "metadata": {},
   "outputs": [
    {
     "data": {
      "text/plain": [
       "AdaBoostClassifier(algorithm='SAMME.R', base_estimator=None, learning_rate=1.0,\n",
       "                   n_estimators=100, random_state=101)"
      ]
     },
     "execution_count": 63,
     "metadata": {},
     "output_type": "execute_result"
    }
   ],
   "source": [
    "abc = AdaBoostClassifier(random_state = 101, n_estimators = 100)\n",
    "\n",
    "abc.fit(X_train, y_train)"
   ]
  },
  {
   "cell_type": "code",
   "execution_count": 66,
   "metadata": {},
   "outputs": [
    {
     "name": "stdout",
     "output_type": "stream",
     "text": [
      "\n",
      " Confusion Matrix : \n",
      " [[1210  119]\n",
      " [ 196  233]]\n",
      "Accuracy   Score :  0.8208191126279863\n",
      "Precision :  0.6619318181818182\n",
      "Recall : 0.5431235431235432\n",
      "F1 Score: 0.5966709346991038\n",
      "Area under curve :  0.7267912674233216 \n",
      "\n"
     ]
    },
    {
     "data": {
      "image/png": "[encoded data removed]",
      "text/plain": [
       "<Figure size 432x288 with 1 Axes>"
      ]
     },
     "metadata": {
      "needs_background": "light"
     },
     "output_type": "display_data"
    }
   ],
   "source": [
    "pkl.dump(abc, open('D:\\\\Git\\\\Telecom_Churn_Modeling\\\\Data\\\\AdaBoostModel', 'wb'))\n",
    "y_hat_abc  = abc.predict(X_test)\n",
    "y_prob_abc = abc.predict_proba(X_test)\n",
    "get_results(y_test,y_hat_abc,y_prob_abc)"
   ]
  },
  {
   "cell_type": "markdown",
   "metadata": {},
   "source": [
    "#### Gradient Boost Classifier"
   ]
  },
  {
   "cell_type": "code",
   "execution_count": 9,
   "metadata": {},
   "outputs": [],
   "source": [
    " from sklearn.ensemble import GradientBoostingClassifier"
   ]
  },
  {
   "cell_type": "code",
   "execution_count": 10,
   "metadata": {},
   "outputs": [
    {
     "name": "stdout",
     "output_type": "stream",
     "text": [
      "Fitting 10 folds for each of 54 candidates, totalling 540 fits\n"
     ]
    },
    {
     "name": "stderr",
     "output_type": "stream",
     "text": [
      "[Parallel(n_jobs=-1)]: Using backend LokyBackend with 8 concurrent workers.\n",
      "[Parallel(n_jobs=-1)]: Done  16 tasks      | elapsed:    4.7s\n",
      "[Parallel(n_jobs=-1)]: Done 112 tasks      | elapsed:   25.3s\n",
      "[Parallel(n_jobs=-1)]: Done 272 tasks      | elapsed:   57.8s\n",
      "[Parallel(n_jobs=-1)]: Done 496 tasks      | elapsed: 96.8min\n",
      "[Parallel(n_jobs=-1)]: Done 540 out of 540 | elapsed: 130.1min finished\n"
     ]
    },
    {
     "data": {
      "text/plain": [
       "GridSearchCV(cv=10, estimator=GradientBoostingClassifier(random_state=101),\n",
       "             n_jobs=-1,\n",
       "             param_grid={'criterion': ['friedman_mse', 'mse', 'mae'],\n",
       "                         'learning_rate': [0.001, 0.01, 0.1],\n",
       "                         'loss': ['deviance', 'exponential'],\n",
       "                         'n_estimators': [50, 100, 200]},\n",
       "             scoring='accuracy', verbose=3)"
      ]
     },
     "execution_count": 10,
     "metadata": {},
     "output_type": "execute_result"
    }
   ],
   "source": [
    "gbc = GradientBoostingClassifier(random_state = 101)\n",
    "\n",
    "params = {\n",
    "    'loss' :['deviance', 'exponential'],\n",
    "    'learning_rate':[0.001,0.01,0.1],\n",
    "    'n_estimators':[50,100,200],\n",
    "    'criterion':['friedman_mse', 'mse', 'mae']\n",
    "}\n",
    "\n",
    "grid_gbc = GridSearchCV(estimator = gbc,\n",
    "                       param_grid = params,\n",
    "                       n_jobs = -1,\n",
    "                       verbose = 3,\n",
    "                       scoring = 'accuracy',\n",
    "                       cv = 10)\n",
    "grid_gbc.fit(X_train,y_train)"
   ]
  },
  {
   "cell_type": "code",
   "execution_count": 11,
   "metadata": {},
   "outputs": [
    {
     "name": "stdout",
     "output_type": "stream",
     "text": [
      "GradientBoostingClassifier(loss='exponential', n_estimators=50,\n",
      "                           random_state=101)\n"
     ]
    }
   ],
   "source": [
    "best_gbc = grid_gbc.best_estimator_\n",
    "print(best_gbc)"
   ]
  },
  {
   "cell_type": "code",
   "execution_count": 12,
   "metadata": {},
   "outputs": [
    {
     "name": "stdout",
     "output_type": "stream",
     "text": [
      "\n",
      " Confusion Matrix : \n",
      " [[1214  115]\n",
      " [ 210  219]]\n",
      "Accuracy   Score :  0.8151308304891922\n",
      "Precision :  0.655688622754491\n",
      "Recall : 0.5104895104895105\n",
      "F1 Score: 0.5740498034076016\n",
      "Area under curve :  0.7119791420017153 \n",
      "\n"
     ]
    },
    {
     "data": {
      "image/png": "[encoded data removed]",
      "text/plain": [
       "<Figure size 432x288 with 1 Axes>"
      ]
     },
     "metadata": {
      "needs_background": "light"
     },
     "output_type": "display_data"
    }
   ],
   "source": [
    "pkl.dump(best_gbc, open('D:\\\\Git\\\\Telecom_Churn_Modeling\\\\Data\\\\GBCModel', 'wb'))\n",
    "y_hat_gbc  = best_gbc.predict(X_test)\n",
    "y_prob_gbc = best_gbc.predict_proba(X_test)\n",
    "get_results(y_test,y_hat_gbc,y_prob_gbc)"
   ]
  },
  {
   "cell_type": "markdown",
   "metadata": {},
   "source": [
    "## Handling Imbalance"
   ]
  },
  {
   "cell_type": "code",
   "execution_count": 10,
   "metadata": {},
   "outputs": [
    {
     "name": "stdout",
     "output_type": "stream",
     "text": [
      "Class proportions:\n",
      "Churn: 1869\n",
      "Non-Churn: 5163\n"
     ]
    }
   ],
   "source": [
    "print(\"Class proportions:\")\n",
    "print(\"Churn:\",len(churn_df.loc[churn_df['Churn'] == 1]))\n",
    "print(\"Non-Churn:\",len(churn_df.loc[churn_df['Churn'] == 0]))"
   ]
  },
  {
   "cell_type": "markdown",
   "metadata": {},
   "source": [
    "### SMOTE"
   ]
  },
  {
   "cell_type": "code",
   "execution_count": 13,
   "metadata": {},
   "outputs": [],
   "source": [
    "from imblearn.over_sampling import SMOTE"
   ]
  },
  {
   "cell_type": "code",
   "execution_count": 14,
   "metadata": {},
   "outputs": [],
   "source": [
    "oversample = SMOTE()\n",
    "X, Y = oversample.fit_resample(X, Y)"
   ]
  },
  {
   "cell_type": "code",
   "execution_count": 15,
   "metadata": {},
   "outputs": [
    {
     "name": "stdout",
     "output_type": "stream",
     "text": [
      "Class proportions:\n",
      "Churn: 5163\n",
      "Non-Churn: 5163\n"
     ]
    }
   ],
   "source": [
    "print(\"Class proportions:\")\n",
    "print(\"Churn:\",len(Y.loc[Y== 1]))\n",
    "print(\"Non-Churn:\",len(Y.loc[Y == 0]))"
   ]
  },
  {
   "cell_type": "code",
   "execution_count": 16,
   "metadata": {},
   "outputs": [],
   "source": [
    "X_train, X_test, y_train, y_test = train_test_split(X, Y, test_size=0.25, random_state=101)"
   ]
  },
  {
   "cell_type": "markdown",
   "metadata": {},
   "source": [
    "### Ada Boost with Oversampling using SMOTE"
   ]
  },
  {
   "cell_type": "code",
   "execution_count": 19,
   "metadata": {},
   "outputs": [
    {
     "data": {
      "text/plain": [
       "AdaBoostClassifier(n_estimators=100, random_state=101)"
      ]
     },
     "execution_count": 19,
     "metadata": {},
     "output_type": "execute_result"
    }
   ],
   "source": [
    "oabc = AdaBoostClassifier(random_state = 101, n_estimators = 100)\n",
    "\n",
    "oabc.fit(X_train, y_train)"
   ]
  },
  {
   "cell_type": "code",
   "execution_count": 21,
   "metadata": {},
   "outputs": [
    {
     "name": "stdout",
     "output_type": "stream",
     "text": [
      "\n",
      " Confusion Matrix : \n",
      " [[1100  185]\n",
      " [ 177 1120]]\n",
      "Accuracy   Score :  0.8597986057319907\n",
      "Precision :  0.8582375478927203\n",
      "Recall : 0.8635312259059368\n",
      "F1 Score: 0.8608762490392007\n",
      "Area under curve :  0.859781177155303 \n",
      "\n"
     ]
    },
    {
     "data": {
      "image/png": "[encoded data removed]",
      "text/plain": [
       "<Figure size 432x288 with 1 Axes>"
      ]
     },
     "metadata": {
      "needs_background": "light"
     },
     "output_type": "display_data"
    }
   ],
   "source": [
    "pkl.dump(oabc, open('D:\\\\Git\\\\Telecom_Churn_Modeling\\\\Data\\\\OversampledAdaBoostModel', 'wb'))\n",
    "y_hat_oabc  = oabc.predict(X_test)\n",
    "y_prob_oabc = oabc.predict_proba(X_test)\n",
    "get_results(y_test,y_hat_oabc,y_prob_oabc)"
   ]
  },
  {
   "cell_type": "markdown",
   "metadata": {},
   "source": [
    "### Logistic Regression with SMOTE"
   ]
  },
  {
   "cell_type": "code",
   "execution_count": 22,
   "metadata": {},
   "outputs": [
    {
     "name": "stdout",
     "output_type": "stream",
     "text": [
      "Fitting 10 folds for each of 5 candidates, totalling 50 fits\n"
     ]
    },
    {
     "name": "stderr",
     "output_type": "stream",
     "text": [
      "[Parallel(n_jobs=-1)]: Using backend LokyBackend with 8 concurrent workers.\n",
      "[Parallel(n_jobs=-1)]: Done  34 tasks      | elapsed:    8.1s\n",
      "[Parallel(n_jobs=-1)]: Done  50 out of  50 | elapsed:    9.5s finished\n",
      "C:\\Users\\mayan\\Anaconda3\\lib\\site-packages\\sklearn\\utils\\optimize.py:212: ConvergenceWarning: newton-cg failed to converge. Increase the number of iterations.\n",
      "  \"number of iterations.\", ConvergenceWarning)\n"
     ]
    },
    {
     "data": {
      "text/plain": [
       "GridSearchCV(cv=10, estimator=LogisticRegression(random_state=101), n_jobs=-1,\n",
       "             param_grid={'solver': ['newton-cg', 'lbfgs', 'liblinear', 'sag',\n",
       "                                    'saga']},\n",
       "             scoring='accuracy', verbose=1)"
      ]
     },
     "execution_count": 22,
     "metadata": {},
     "output_type": "execute_result"
    }
   ],
   "source": [
    "olrc = LogisticRegression(random_state = 101)\n",
    "params = {\n",
    "    'solver': ['newton-cg', 'lbfgs', 'liblinear', 'sag', 'saga']\n",
    "}\n",
    "\n",
    "\n",
    "grid_olr = GridSearchCV(estimator = olrc,\n",
    "                        param_grid = params,\n",
    "best_lr = grid_lr.best_estimator_\n",
    "pkl.dump(best_lr, open('D:\\\\Git\\\\Telecom_Churn_Modeling\\\\Data\\\\LogisticRegressionModel', 'wb'))\n",
    "y_hat_lr = best_lr.predict(X_test)\n",
    "y_prob_lr = best_lr.predict_proba(X_test)\n",
    "get_results(y_test,y_hat_lr,y_prob_lr)                        scoring = 'accuracy', \n",
    "                        cv = 10, \n",
    "                        verbose = 1,\n",
    "                        n_jobs = -1)\n",
    "grid_olr.fit(X_train, y_train)"
   ]
  },
  {
   "cell_type": "code",
   "execution_count": 23,
   "metadata": {},
   "outputs": [
    {
     "name": "stdout",
     "output_type": "stream",
     "text": [
      "\n",
      " Confusion Matrix : \n",
      " [[1136  149]\n",
      " [ 200 1097]]\n",
      "Accuracy   Score :  0.864833462432223\n",
      "Precision :  0.8804173354735152\n",
      "Recall : 0.8457979953739398\n",
      "F1 Score: 0.8627605190719622\n",
      "Area under curve :  0.8649223439904719 \n",
      "\n"
     ]
    },
    {
     "data": {
      "image/png": "[encoded data removed]",
      "text/plain": [
       "<Figure size 432x288 with 1 Axes>"
      ]
     },
     "metadata": {
      "needs_background": "light"
     },
     "output_type": "display_data"
    }
   ],
   "source": [
    "best_olr = grid_olr.best_estimator_\n",
    "pkl.dump(best_olr, open('D:\\\\Git\\\\Telecom_Churn_Modeling\\\\Data\\\\OversampledLogisticRegressionModel', 'wb'))\n",
    "y_hat_olr = best_olr.predict(X_test)\n",
    "y_prob_olr = best_olr.predict_proba(X_test)\n",
    "get_results(y_test,y_hat_olr,y_prob_olr)"
   ]
  },
  {
   "cell_type": "markdown",
   "metadata": {},
   "source": [
    "#### Using Gradient boost classifier with SMOTE"
   ]
  },
  {
   "cell_type": "code",
   "execution_count": 23,
   "metadata": {},
   "outputs": [
    {
     "name": "stdout",
     "output_type": "stream",
     "text": [
      "Fitting 10 folds for each of 18 candidates, totalling 180 fits\n"
     ]
    },
    {
     "name": "stderr",
     "output_type": "stream",
     "text": [
      "[Parallel(n_jobs=-1)]: Using backend LokyBackend with 8 concurrent workers.\n",
      "[Parallel(n_jobs=-1)]: Done  16 tasks      | elapsed:    2.8s\n",
      "[Parallel(n_jobs=-1)]: Done 112 tasks      | elapsed:   32.4s\n",
      "[Parallel(n_jobs=-1)]: Done 180 out of 180 | elapsed:   52.6s finished\n"
     ]
    },
    {
     "data": {
      "text/plain": [
       "GridSearchCV(cv=10, estimator=GradientBoostingClassifier(random_state=101),\n",
       "             n_jobs=-1,\n",
       "             param_grid={'learning_rate': [0.001, 0.01, 0.1],\n",
       "                         'loss': ['deviance', 'exponential'],\n",
       "                         'n_estimators': [50, 100, 200]},\n",
       "             scoring='accuracy', verbose=3)"
      ]
     },
     "execution_count": 23,
     "metadata": {},
     "output_type": "execute_result"
    }
   ],
   "source": [
    "ogbc = GradientBoostingClassifier(random_state = 101)\n",
    "\n",
    "params = {\n",
    "    'loss' :['deviance', 'exponential'],\n",
    "    'learning_rate':[0.001,0.01,0.1],\n",
    "    'n_estimators':[50,100,200]\n",
    "}\n",
    "\n",
    "grid_ogbc = GridSearchCV(estimator = ogbc,\n",
    "                       param_grid = params,\n",
    "                       n_jobs = -1,\n",
    "                       verbose = 3,\n",
    "                       scoring = 'accuracy',\n",
    "                       cv = 10)\n",
    "grid_ogbc.fit(X_train,y_train)"
   ]
  },
  {
   "cell_type": "code",
   "execution_count": 24,
   "metadata": {},
   "outputs": [
    {
     "name": "stdout",
     "output_type": "stream",
     "text": [
      "GradientBoostingClassifier(loss='exponential', random_state=101)\n"
     ]
    }
   ],
   "source": [
    "best_ogbc = grid_ogbc.best_estimator_\n",
    "print(best_ogbc)"
   ]
  },
  {
   "cell_type": "code",
   "execution_count": 25,
   "metadata": {},
   "outputs": [
    {
     "name": "stdout",
     "output_type": "stream",
     "text": [
      "\n",
      " Confusion Matrix : \n",
      " [[1109  176]\n",
      " [ 175 1122]]\n",
      "Accuracy   Score :  0.8640588690937258\n",
      "Precision :  0.864406779661017\n",
      "Recall : 0.8650732459521974\n",
      "F1 Score: 0.8647398843930635\n",
      "Area under curve :  0.8640541327037252 \n",
      "\n"
     ]
    },
    {
     "data": {
      "image/png": "[encoded data removed]",
      "text/plain": [
       "<Figure size 432x288 with 1 Axes>"
      ]
     },
     "metadata": {
      "needs_background": "light"
     },
     "output_type": "display_data"
    }
   ],
   "source": [
    "pkl.dump(best_ogbc, open('D:\\\\Git\\\\Telecom_Churn_Modeling\\\\Data\\\\OverSampledGBCModel', 'wb'))\n",
    "y_hat_ogbc  = best_ogbc.predict(X_test)\n",
    "y_prob_ogbc = best_ogbc.predict_proba(X_test)\n",
    "get_results(y_test,y_hat_ogbc,y_prob_ogbc)"
   ]
  },
  {
   "cell_type": "markdown",
   "metadata": {},
   "source": [
    "#### XGBoost with SMOTE"
   ]
  },
  {
   "cell_type": "code",
   "execution_count": 30,
   "metadata": {},
   "outputs": [],
   "source": [
    "from xgboost import XGBClassifier"
   ]
  },
  {
   "cell_type": "code",
   "execution_count": 31,
   "metadata": {},
   "outputs": [
    {
     "name": "stdout",
     "output_type": "stream",
     "text": [
      "Fitting 10 folds for each of 60 candidates, totalling 600 fits\n"
     ]
    },
    {
     "name": "stderr",
     "output_type": "stream",
     "text": [
      "[Parallel(n_jobs=-1)]: Using backend LokyBackend with 8 concurrent workers.\n",
      "[Parallel(n_jobs=-1)]: Done  16 tasks      | elapsed:    7.5s\n",
      "[Parallel(n_jobs=-1)]: Done 112 tasks      | elapsed:   37.8s\n",
      "[Parallel(n_jobs=-1)]: Done 272 tasks      | elapsed:  1.3min\n",
      "[Parallel(n_jobs=-1)]: Done 496 tasks      | elapsed:  2.4min\n",
      "[Parallel(n_jobs=-1)]: Done 600 out of 600 | elapsed:  3.0min finished\n"
     ]
    },
    {
     "data": {
      "text/plain": [
       "GridSearchCV(cv=10,\n",
       "             estimator=XGBClassifier(base_score=None, booster=None,\n",
       "                                     colsample_bylevel=None,\n",
       "                                     colsample_bynode=None,\n",
       "                                     colsample_bytree=None, gamma=None,\n",
       "                                     gpu_id=None, importance_type='gain',\n",
       "                                     interaction_constraints=None,\n",
       "                                     learning_rate=None, max_delta_step=None,\n",
       "                                     max_depth=None, min_child_weight=None,\n",
       "                                     missing=nan, monotone_constraints=None,\n",
       "                                     n_estimators=100, n_jobs=None,\n",
       "                                     num_parallel_tree=None, random_state=101,\n",
       "                                     reg_alpha=None, reg_lambda=None,\n",
       "                                     scale_pos_weight=None, subsample=None,\n",
       "                                     tree_method=None, validate_parameters=None,\n",
       "                                     verbosity=None),\n",
       "             n_jobs=-1,\n",
       "             param_grid={'gamma': [0.0, 0.1, 0.2, 0.3, 0.4],\n",
       "                         'max_depth': range(3, 10, 2),\n",
       "                         'min_child_weight': range(1, 6, 2)},\n",
       "             scoring='accuracy', verbose=3)"
      ]
     },
     "execution_count": 31,
     "metadata": {},
     "output_type": "execute_result"
    }
   ],
   "source": [
    "xgbc = XGBClassifier(random_state = 101)\n",
    "\n",
    "params = {\n",
    "    'max_depth':range(3,10,2),\n",
    "    'min_child_weight':range(1,6,2),\n",
    "    'gamma':[i/10.0 for i in range(0,5)]\n",
    "}\n",
    "\n",
    "grid_xgbc = GridSearchCV(estimator = xgbc,\n",
    "                       param_grid = params,\n",
    "                       n_jobs = -1,\n",
    "                       verbose = 3,\n",
    "                       scoring = 'accuracy',\n",
    "                       cv = 10)\n",
    "grid_xgbc.fit(X_train,y_train)"
   ]
  },
  {
   "cell_type": "code",
   "execution_count": 32,
   "metadata": {},
   "outputs": [
    {
     "name": "stdout",
     "output_type": "stream",
     "text": [
      "XGBClassifier(base_score=0.5, booster='gbtree', colsample_bylevel=1,\n",
      "              colsample_bynode=1, colsample_bytree=1, gamma=0.0, gpu_id=-1,\n",
      "              importance_type='gain', interaction_constraints='',\n",
      "              learning_rate=0.300000012, max_delta_step=0, max_depth=3,\n",
      "              min_child_weight=5, missing=nan, monotone_constraints='()',\n",
      "              n_estimators=100, n_jobs=0, num_parallel_tree=1, random_state=101,\n",
      "              reg_alpha=0, reg_lambda=1, scale_pos_weight=1, subsample=1,\n",
      "              tree_method='exact', validate_parameters=1, verbosity=None)\n"
     ]
    }
   ],
   "source": [
    "best_xgbc = grid_xgbc.best_estimator_\n",
    "print(best_xgbc)"
   ]
  },
  {
   "cell_type": "code",
   "execution_count": 33,
   "metadata": {},
   "outputs": [
    {
     "name": "stdout",
     "output_type": "stream",
     "text": [
      "\n",
      " Confusion Matrix : \n",
      " [[1130  155]\n",
      " [ 191 1106]]\n",
      "Accuracy   Score :  0.8659953524399691\n",
      "Precision :  0.8770816812053925\n",
      "Recall : 0.8527370855821126\n",
      "F1 Score: 0.8647380766223612\n",
      "Area under curve :  0.8660572587443637 \n",
      "\n"
     ]
    },
    {
     "data": {
      "image/png": "[encoded data removed]",
      "text/plain": [
       "<Figure size 432x288 with 1 Axes>"
      ]
     },
     "metadata": {
      "needs_background": "light"
     },
     "output_type": "display_data"
    }
   ],
   "source": [
    "pkl.dump(best_xgbc, open('D:\\\\Git\\\\Telecom_Churn_Modeling\\\\Data\\\\OverSampledXGBCModel', 'wb'))\n",
    "y_hat_xgbc  = best_xgbc.predict(X_test)\n",
    "y_prob_xgbc = best_xgbc.predict_proba(X_test)\n",
    "get_results(y_test,y_hat_xgbc,y_prob_xgbc)"
   ]
  },
  {
   "cell_type": "markdown",
   "metadata": {},
   "source": [
    "#### Light GBM"
   ]
  },
  {
   "cell_type": "code",
   "execution_count": 35,
   "metadata": {},
   "outputs": [],
   "source": [
    "from lightgbm import LGBMClassifier"
   ]
  },
  {
   "cell_type": "code",
   "execution_count": 36,
   "metadata": {},
   "outputs": [
    {
     "name": "stdout",
     "output_type": "stream",
     "text": [
      "Fitting 10 folds for each of 27 candidates, totalling 270 fits\n"
     ]
    },
    {
     "name": "stderr",
     "output_type": "stream",
     "text": [
      "[Parallel(n_jobs=-1)]: Using backend LokyBackend with 8 concurrent workers.\n",
      "[Parallel(n_jobs=-1)]: Done  16 tasks      | elapsed:   10.2s\n",
      "[Parallel(n_jobs=-1)]: Done 112 tasks      | elapsed:   52.0s\n",
      "[Parallel(n_jobs=-1)]: Done 270 out of 270 | elapsed:  2.0min finished\n"
     ]
    },
    {
     "data": {
      "text/plain": [
       "GridSearchCV(cv=10, estimator=LGBMClassifier(random_state=101, silent=False),\n",
       "             n_jobs=-1,\n",
       "             param_grid={'learning_rate': [0.01, 0.05, 0.1],\n",
       "                         'max_depth': [25, 50, 75], 'n_estimators': [200],\n",
       "                         'num_leaves': [300, 900, 1200]},\n",
       "             scoring='accuracy', verbose=3)"
      ]
     },
     "execution_count": 36,
     "metadata": {},
     "output_type": "execute_result"
    }
   ],
   "source": [
    "lgbm = LGBMClassifier(random_state = 101, silent = False)\n",
    "\n",
    "params = {\"max_depth\": [25,50, 75],\n",
    "              \"learning_rate\" : [0.01,0.05,0.1],\n",
    "              \"num_leaves\": [300,900,1200],\n",
    "              \"n_estimators\": [200]\n",
    "             }\n",
    "\n",
    "grid_lgbm = GridSearchCV(estimator = lgbm,\n",
    "                       param_grid = params,\n",
    "                       n_jobs = -1,\n",
    "                       verbose = 3,\n",
    "                       scoring = 'accuracy',\n",
    "                       cv = 10)\n",
    "grid_lgbm.fit(X_train,y_train)"
   ]
  },
  {
   "cell_type": "code",
   "execution_count": 37,
   "metadata": {},
   "outputs": [
    {
     "name": "stdout",
     "output_type": "stream",
     "text": [
      "LGBMClassifier(learning_rate=0.05, max_depth=25, n_estimators=200,\n",
      "               num_leaves=300, random_state=101, silent=False)\n"
     ]
    }
   ],
   "source": [
    "best_lgbm = grid_lgbm.best_estimator_\n",
    "print(best_lgbm)"
   ]
  },
  {
   "cell_type": "code",
   "execution_count": 38,
   "metadata": {
    "scrolled": false
   },
   "outputs": [
    {
     "name": "stdout",
     "output_type": "stream",
     "text": [
      "\n",
      " Confusion Matrix : \n",
      " [[1113  172]\n",
      " [ 209 1088]]\n",
      "Accuracy   Score :  0.8524399690162665\n",
      "Precision :  0.8634920634920635\n",
      "Recall : 0.8388589051657671\n",
      "F1 Score: 0.8509972624168948\n",
      "Area under curve :  0.8525033825439732 \n",
      "\n"
     ]
    },
    {
     "data": {
      "image/png": "[encoded data removed]",
      "text/plain": [
       "<Figure size 432x288 with 1 Axes>"
      ]
     },
     "metadata": {
      "needs_background": "light"
     },
     "output_type": "display_data"
    }
   ],
   "source": [
    "pkl.dump(best_lgbm, open('D:\\\\Git\\\\Telecom_Churn_Modeling\\\\Data\\\\OverSampledLGBMModel', 'wb'))\n",
    "y_hat_lgbm  = best_lgbm.predict(X_test)\n",
    "y_prob_lgbm = best_lgbm.predict_proba(X_test)\n",
    "get_results(y_test,y_hat_lgbm,y_prob_lgbm)"
   ]
  },
  {
   "cell_type": "markdown",
   "metadata": {},
   "source": [
    "#### CatBoost SMOTE"
   ]
  },
  {
   "cell_type": "code",
   "execution_count": 39,
   "metadata": {},
   "outputs": [],
   "source": [
    "from catboost import CatBoostClassifier"
   ]
  },
  {
   "cell_type": "code",
   "execution_count": 40,
   "metadata": {},
   "outputs": [
    {
     "name": "stdout",
     "output_type": "stream",
     "text": [
      "Fitting 10 folds for each of 27 candidates, totalling 270 fits\n"
     ]
    },
    {
     "name": "stderr",
     "output_type": "stream",
     "text": [
      "[Parallel(n_jobs=-1)]: Using backend LokyBackend with 8 concurrent workers.\n",
      "[Parallel(n_jobs=-1)]: Done  16 tasks      | elapsed:   16.7s\n",
      "[Parallel(n_jobs=-1)]: Done 112 tasks      | elapsed:  2.4min\n",
      "[Parallel(n_jobs=-1)]: Done 270 out of 270 | elapsed: 13.3min finished\n"
     ]
    },
    {
     "name": "stdout",
     "output_type": "stream",
     "text": [
      "0:\tlearn: 0.6752683\ttotal: 144ms\tremaining: 43.2s\n",
      "1:\tlearn: 0.6600432\ttotal: 148ms\tremaining: 22s\n",
      "2:\tlearn: 0.6456685\ttotal: 151ms\tremaining: 14.9s\n",
      "3:\tlearn: 0.6302414\ttotal: 153ms\tremaining: 11.4s\n",
      "4:\tlearn: 0.6162236\ttotal: 156ms\tremaining: 9.22s\n",
      "5:\tlearn: 0.6055298\ttotal: 159ms\tremaining: 7.8s\n",
      "6:\tlearn: 0.5934203\ttotal: 162ms\tremaining: 6.78s\n",
      "7:\tlearn: 0.5854535\ttotal: 165ms\tremaining: 6.03s\n",
      "8:\tlearn: 0.5783674\ttotal: 168ms\tremaining: 5.44s\n",
      "9:\tlearn: 0.5688811\ttotal: 172ms\tremaining: 4.99s\n",
      "10:\tlearn: 0.5579322\ttotal: 176ms\tremaining: 4.63s\n",
      "11:\tlearn: 0.5494135\ttotal: 180ms\tremaining: 4.31s\n",
      "12:\tlearn: 0.5415606\ttotal: 186ms\tremaining: 4.1s\n",
      "13:\tlearn: 0.5341912\ttotal: 189ms\tremaining: 3.86s\n",
      "14:\tlearn: 0.5261852\ttotal: 192ms\tremaining: 3.65s\n",
      "15:\tlearn: 0.5199806\ttotal: 195ms\tremaining: 3.46s\n",
      "16:\tlearn: 0.5141686\ttotal: 198ms\tremaining: 3.3s\n",
      "17:\tlearn: 0.5084750\ttotal: 201ms\tremaining: 3.15s\n",
      "18:\tlearn: 0.5031061\ttotal: 204ms\tremaining: 3.02s\n",
      "19:\tlearn: 0.4948482\ttotal: 207ms\tremaining: 2.9s\n",
      "20:\tlearn: 0.4903616\ttotal: 210ms\tremaining: 2.79s\n",
      "21:\tlearn: 0.4832653\ttotal: 213ms\tremaining: 2.69s\n",
      "22:\tlearn: 0.4769635\ttotal: 216ms\tremaining: 2.6s\n",
      "23:\tlearn: 0.4727399\ttotal: 219ms\tremaining: 2.52s\n",
      "24:\tlearn: 0.4656905\ttotal: 222ms\tremaining: 2.44s\n",
      "25:\tlearn: 0.4618005\ttotal: 225ms\tremaining: 2.37s\n",
      "26:\tlearn: 0.4565588\ttotal: 228ms\tremaining: 2.3s\n",
      "27:\tlearn: 0.4514913\ttotal: 231ms\tremaining: 2.25s\n",
      "28:\tlearn: 0.4468941\ttotal: 236ms\tremaining: 2.2s\n",
      "29:\tlearn: 0.4425403\ttotal: 239ms\tremaining: 2.15s\n",
      "30:\tlearn: 0.4399692\ttotal: 242ms\tremaining: 2.1s\n",
      "31:\tlearn: 0.4351223\ttotal: 245ms\tremaining: 2.05s\n",
      "32:\tlearn: 0.4322567\ttotal: 248ms\tremaining: 2s\n",
      "33:\tlearn: 0.4287308\ttotal: 251ms\tremaining: 1.96s\n",
      "34:\tlearn: 0.4206487\ttotal: 254ms\tremaining: 1.92s\n",
      "35:\tlearn: 0.4182017\ttotal: 257ms\tremaining: 1.88s\n",
      "36:\tlearn: 0.4112479\ttotal: 260ms\tremaining: 1.85s\n",
      "37:\tlearn: 0.4093415\ttotal: 263ms\tremaining: 1.81s\n",
      "38:\tlearn: 0.4072596\ttotal: 266ms\tremaining: 1.78s\n",
      "39:\tlearn: 0.4055134\ttotal: 269ms\tremaining: 1.75s\n",
      "40:\tlearn: 0.4024823\ttotal: 272ms\tremaining: 1.72s\n",
      "41:\tlearn: 0.4008017\ttotal: 275ms\tremaining: 1.69s\n",
      "42:\tlearn: 0.3989581\ttotal: 278ms\tremaining: 1.66s\n",
      "43:\tlearn: 0.3956539\ttotal: 281ms\tremaining: 1.63s\n",
      "44:\tlearn: 0.3935710\ttotal: 284ms\tremaining: 1.61s\n",
      "45:\tlearn: 0.3920696\ttotal: 287ms\tremaining: 1.58s\n",
      "46:\tlearn: 0.3901204\ttotal: 290ms\tremaining: 1.56s\n",
      "47:\tlearn: 0.3871736\ttotal: 293ms\tremaining: 1.54s\n",
      "48:\tlearn: 0.3858671\ttotal: 296ms\tremaining: 1.52s\n",
      "49:\tlearn: 0.3808983\ttotal: 299ms\tremaining: 1.5s\n",
      "50:\tlearn: 0.3783854\ttotal: 302ms\tremaining: 1.48s\n",
      "51:\tlearn: 0.3772523\ttotal: 305ms\tremaining: 1.46s\n",
      "52:\tlearn: 0.3760252\ttotal: 309ms\tremaining: 1.44s\n",
      "53:\tlearn: 0.3736752\ttotal: 312ms\tremaining: 1.42s\n",
      "54:\tlearn: 0.3728021\ttotal: 315ms\tremaining: 1.4s\n",
      "55:\tlearn: 0.3717967\ttotal: 318ms\tremaining: 1.38s\n",
      "56:\tlearn: 0.3707512\ttotal: 321ms\tremaining: 1.37s\n",
      "57:\tlearn: 0.3685600\ttotal: 324ms\tremaining: 1.35s\n",
      "58:\tlearn: 0.3677091\ttotal: 327ms\tremaining: 1.34s\n",
      "59:\tlearn: 0.3666817\ttotal: 332ms\tremaining: 1.33s\n",
      "60:\tlearn: 0.3650502\ttotal: 335ms\tremaining: 1.31s\n",
      "61:\tlearn: 0.3642002\ttotal: 338ms\tremaining: 1.3s\n",
      "62:\tlearn: 0.3632061\ttotal: 341ms\tremaining: 1.28s\n",
      "63:\tlearn: 0.3622902\ttotal: 345ms\tremaining: 1.27s\n",
      "64:\tlearn: 0.3614025\ttotal: 348ms\tremaining: 1.26s\n",
      "65:\tlearn: 0.3599606\ttotal: 351ms\tremaining: 1.24s\n",
      "66:\tlearn: 0.3592869\ttotal: 354ms\tremaining: 1.23s\n",
      "67:\tlearn: 0.3576778\ttotal: 357ms\tremaining: 1.22s\n",
      "68:\tlearn: 0.3560591\ttotal: 360ms\tremaining: 1.21s\n",
      "69:\tlearn: 0.3552521\ttotal: 363ms\tremaining: 1.19s\n",
      "70:\tlearn: 0.3546805\ttotal: 366ms\tremaining: 1.18s\n",
      "71:\tlearn: 0.3540313\ttotal: 369ms\tremaining: 1.17s\n",
      "72:\tlearn: 0.3534454\ttotal: 373ms\tremaining: 1.16s\n",
      "73:\tlearn: 0.3527353\ttotal: 376ms\tremaining: 1.15s\n",
      "74:\tlearn: 0.3520176\ttotal: 379ms\tremaining: 1.14s\n",
      "75:\tlearn: 0.3501434\ttotal: 382ms\tremaining: 1.13s\n",
      "76:\tlearn: 0.3471077\ttotal: 386ms\tremaining: 1.12s\n",
      "77:\tlearn: 0.3464964\ttotal: 390ms\tremaining: 1.11s\n",
      "78:\tlearn: 0.3458707\ttotal: 393ms\tremaining: 1.1s\n",
      "79:\tlearn: 0.3452903\ttotal: 396ms\tremaining: 1.09s\n",
      "80:\tlearn: 0.3447406\ttotal: 399ms\tremaining: 1.08s\n",
      "81:\tlearn: 0.3443006\ttotal: 402ms\tremaining: 1.07s\n",
      "82:\tlearn: 0.3431113\ttotal: 405ms\tremaining: 1.06s\n",
      "83:\tlearn: 0.3427286\ttotal: 408ms\tremaining: 1.05s\n",
      "84:\tlearn: 0.3422428\ttotal: 411ms\tremaining: 1.04s\n",
      "85:\tlearn: 0.3411225\ttotal: 414ms\tremaining: 1.03s\n",
      "86:\tlearn: 0.3400586\ttotal: 417ms\tremaining: 1.02s\n",
      "87:\tlearn: 0.3378214\ttotal: 420ms\tremaining: 1.01s\n",
      "88:\tlearn: 0.3374854\ttotal: 423ms\tremaining: 1s\n",
      "89:\tlearn: 0.3370491\ttotal: 426ms\tremaining: 995ms\n",
      "90:\tlearn: 0.3348523\ttotal: 430ms\tremaining: 987ms\n",
      "91:\tlearn: 0.3345185\ttotal: 433ms\tremaining: 978ms\n",
      "92:\tlearn: 0.3340922\ttotal: 436ms\tremaining: 970ms\n",
      "93:\tlearn: 0.3338486\ttotal: 439ms\tremaining: 962ms\n",
      "94:\tlearn: 0.3320932\ttotal: 442ms\tremaining: 954ms\n",
      "95:\tlearn: 0.3317576\ttotal: 445ms\tremaining: 947ms\n",
      "96:\tlearn: 0.3313582\ttotal: 449ms\tremaining: 939ms\n",
      "97:\tlearn: 0.3309465\ttotal: 452ms\tremaining: 931ms\n",
      "98:\tlearn: 0.3306709\ttotal: 455ms\tremaining: 924ms\n",
      "99:\tlearn: 0.3291094\ttotal: 458ms\tremaining: 916ms\n",
      "100:\tlearn: 0.3287978\ttotal: 461ms\tremaining: 909ms\n",
      "101:\tlearn: 0.3285076\ttotal: 464ms\tremaining: 902ms\n",
      "102:\tlearn: 0.3282596\ttotal: 468ms\tremaining: 894ms\n",
      "103:\tlearn: 0.3279172\ttotal: 471ms\tremaining: 887ms\n",
      "104:\tlearn: 0.3276722\ttotal: 474ms\tremaining: 880ms\n",
      "105:\tlearn: 0.3274164\ttotal: 477ms\tremaining: 873ms\n",
      "106:\tlearn: 0.3271711\ttotal: 480ms\tremaining: 866ms\n",
      "107:\tlearn: 0.3269386\ttotal: 483ms\tremaining: 859ms\n",
      "108:\tlearn: 0.3265643\ttotal: 487ms\tremaining: 853ms\n",
      "109:\tlearn: 0.3262966\ttotal: 490ms\tremaining: 846ms\n",
      "110:\tlearn: 0.3260748\ttotal: 493ms\tremaining: 839ms\n",
      "111:\tlearn: 0.3258456\ttotal: 496ms\tremaining: 832ms\n",
      "112:\tlearn: 0.3251198\ttotal: 499ms\tremaining: 826ms\n",
      "113:\tlearn: 0.3248786\ttotal: 502ms\tremaining: 819ms\n",
      "114:\tlearn: 0.3245826\ttotal: 506ms\tremaining: 814ms\n",
      "115:\tlearn: 0.3242897\ttotal: 509ms\tremaining: 808ms\n",
      "116:\tlearn: 0.3240356\ttotal: 512ms\tremaining: 802ms\n",
      "117:\tlearn: 0.3234323\ttotal: 516ms\tremaining: 796ms\n",
      "118:\tlearn: 0.3231544\ttotal: 519ms\tremaining: 790ms\n",
      "119:\tlearn: 0.3228792\ttotal: 523ms\tremaining: 785ms\n",
      "120:\tlearn: 0.3222551\ttotal: 527ms\tremaining: 780ms\n",
      "121:\tlearn: 0.3220149\ttotal: 531ms\tremaining: 774ms\n",
      "122:\tlearn: 0.3217618\ttotal: 534ms\tremaining: 769ms\n",
      "123:\tlearn: 0.3215520\ttotal: 538ms\tremaining: 763ms\n",
      "124:\tlearn: 0.3213749\ttotal: 541ms\tremaining: 758ms\n",
      "125:\tlearn: 0.3212348\ttotal: 545ms\tremaining: 753ms\n",
      "126:\tlearn: 0.3210626\ttotal: 549ms\tremaining: 747ms\n",
      "127:\tlearn: 0.3203505\ttotal: 552ms\tremaining: 742ms\n",
      "128:\tlearn: 0.3201521\ttotal: 556ms\tremaining: 737ms\n",
      "129:\tlearn: 0.3199761\ttotal: 559ms\tremaining: 731ms\n",
      "130:\tlearn: 0.3197499\ttotal: 562ms\tremaining: 725ms\n",
      "131:\tlearn: 0.3185727\ttotal: 565ms\tremaining: 719ms\n",
      "132:\tlearn: 0.3183568\ttotal: 569ms\tremaining: 714ms\n",
      "133:\tlearn: 0.3181337\ttotal: 571ms\tremaining: 708ms\n",
      "134:\tlearn: 0.3179782\ttotal: 574ms\tremaining: 702ms\n",
      "135:\tlearn: 0.3178413\ttotal: 577ms\tremaining: 696ms\n",
      "136:\tlearn: 0.3176855\ttotal: 581ms\tremaining: 691ms\n",
      "137:\tlearn: 0.3175261\ttotal: 584ms\tremaining: 685ms\n",
      "138:\tlearn: 0.3174161\ttotal: 587ms\tremaining: 680ms\n",
      "139:\tlearn: 0.3172221\ttotal: 590ms\tremaining: 674ms\n",
      "140:\tlearn: 0.3171030\ttotal: 593ms\tremaining: 669ms\n",
      "141:\tlearn: 0.3168771\ttotal: 596ms\tremaining: 663ms\n",
      "142:\tlearn: 0.3167368\ttotal: 599ms\tremaining: 658ms\n",
      "143:\tlearn: 0.3157621\ttotal: 602ms\tremaining: 653ms\n",
      "144:\tlearn: 0.3155654\ttotal: 606ms\tremaining: 647ms\n",
      "145:\tlearn: 0.3154103\ttotal: 609ms\tremaining: 642ms\n",
      "146:\tlearn: 0.3152087\ttotal: 612ms\tremaining: 637ms\n",
      "147:\tlearn: 0.3139044\ttotal: 615ms\tremaining: 632ms\n",
      "148:\tlearn: 0.3137626\ttotal: 618ms\tremaining: 627ms\n",
      "149:\tlearn: 0.3135946\ttotal: 621ms\tremaining: 621ms\n",
      "150:\tlearn: 0.3134361\ttotal: 625ms\tremaining: 616ms\n",
      "151:\tlearn: 0.3132628\ttotal: 628ms\tremaining: 611ms\n",
      "152:\tlearn: 0.3130853\ttotal: 631ms\tremaining: 606ms\n",
      "153:\tlearn: 0.3129352\ttotal: 634ms\tremaining: 601ms\n",
      "154:\tlearn: 0.3125201\ttotal: 637ms\tremaining: 596ms\n",
      "155:\tlearn: 0.3124004\ttotal: 640ms\tremaining: 591ms\n",
      "156:\tlearn: 0.3122821\ttotal: 643ms\tremaining: 586ms\n",
      "157:\tlearn: 0.3121514\ttotal: 646ms\tremaining: 581ms\n",
      "158:\tlearn: 0.3120075\ttotal: 649ms\tremaining: 576ms\n",
      "159:\tlearn: 0.3118505\ttotal: 652ms\tremaining: 571ms\n",
      "160:\tlearn: 0.3116719\ttotal: 656ms\tremaining: 566ms\n",
      "161:\tlearn: 0.3111941\ttotal: 659ms\tremaining: 561ms\n",
      "162:\tlearn: 0.3111001\ttotal: 662ms\tremaining: 556ms\n",
      "163:\tlearn: 0.3109574\ttotal: 665ms\tremaining: 551ms\n",
      "164:\tlearn: 0.3101855\ttotal: 668ms\tremaining: 546ms\n",
      "165:\tlearn: 0.3100589\ttotal: 671ms\tremaining: 541ms\n",
      "166:\tlearn: 0.3099228\ttotal: 674ms\tremaining: 537ms\n",
      "167:\tlearn: 0.3098304\ttotal: 677ms\tremaining: 532ms\n",
      "168:\tlearn: 0.3097441\ttotal: 680ms\tremaining: 527ms\n",
      "169:\tlearn: 0.3095951\ttotal: 684ms\tremaining: 523ms\n",
      "170:\tlearn: 0.3094931\ttotal: 687ms\tremaining: 518ms\n",
      "171:\tlearn: 0.3088041\ttotal: 691ms\tremaining: 514ms\n",
      "172:\tlearn: 0.3086760\ttotal: 695ms\tremaining: 510ms\n",
      "173:\tlearn: 0.3082730\ttotal: 702ms\tremaining: 509ms\n",
      "174:\tlearn: 0.3081817\ttotal: 705ms\tremaining: 504ms\n",
      "175:\tlearn: 0.3080907\ttotal: 708ms\tremaining: 499ms\n",
      "176:\tlearn: 0.3079682\ttotal: 711ms\tremaining: 494ms\n",
      "177:\tlearn: 0.3075799\ttotal: 714ms\tremaining: 489ms\n",
      "178:\tlearn: 0.3069373\ttotal: 717ms\tremaining: 484ms\n",
      "179:\tlearn: 0.3068097\ttotal: 720ms\tremaining: 480ms\n",
      "180:\tlearn: 0.3067002\ttotal: 723ms\tremaining: 475ms\n",
      "181:\tlearn: 0.3064287\ttotal: 726ms\tremaining: 471ms\n",
      "182:\tlearn: 0.3063144\ttotal: 730ms\tremaining: 466ms\n",
      "183:\tlearn: 0.3062491\ttotal: 734ms\tremaining: 462ms\n",
      "184:\tlearn: 0.3061389\ttotal: 737ms\tremaining: 458ms\n",
      "185:\tlearn: 0.3060863\ttotal: 740ms\tremaining: 453ms\n",
      "186:\tlearn: 0.3060103\ttotal: 743ms\tremaining: 449ms\n",
      "187:\tlearn: 0.3059479\ttotal: 746ms\tremaining: 444ms\n",
      "188:\tlearn: 0.3058610\ttotal: 749ms\tremaining: 440ms\n",
      "189:\tlearn: 0.3057232\ttotal: 752ms\tremaining: 436ms\n",
      "190:\tlearn: 0.3056521\ttotal: 756ms\tremaining: 431ms\n",
      "191:\tlearn: 0.3055710\ttotal: 759ms\tremaining: 427ms\n",
      "192:\tlearn: 0.3054836\ttotal: 762ms\tremaining: 422ms\n",
      "193:\tlearn: 0.3054192\ttotal: 765ms\tremaining: 418ms\n",
      "194:\tlearn: 0.3053049\ttotal: 768ms\tremaining: 414ms\n",
      "195:\tlearn: 0.3052084\ttotal: 771ms\tremaining: 409ms\n",
      "196:\tlearn: 0.3051193\ttotal: 775ms\tremaining: 405ms\n",
      "197:\tlearn: 0.3050522\ttotal: 778ms\tremaining: 401ms\n",
      "198:\tlearn: 0.3049664\ttotal: 781ms\tremaining: 396ms\n",
      "199:\tlearn: 0.3049012\ttotal: 784ms\tremaining: 392ms\n",
      "200:\tlearn: 0.3047740\ttotal: 787ms\tremaining: 388ms\n",
      "201:\tlearn: 0.3046408\ttotal: 790ms\tremaining: 383ms\n",
      "202:\tlearn: 0.3045212\ttotal: 793ms\tremaining: 379ms\n",
      "203:\tlearn: 0.3044328\ttotal: 797ms\tremaining: 375ms\n",
      "204:\tlearn: 0.3043229\ttotal: 800ms\tremaining: 371ms\n",
      "205:\tlearn: 0.3041913\ttotal: 803ms\tremaining: 366ms\n",
      "206:\tlearn: 0.3041290\ttotal: 806ms\tremaining: 362ms\n",
      "207:\tlearn: 0.3039927\ttotal: 809ms\tremaining: 358ms\n",
      "208:\tlearn: 0.3038932\ttotal: 812ms\tremaining: 354ms\n",
      "209:\tlearn: 0.3038027\ttotal: 815ms\tremaining: 349ms\n",
      "210:\tlearn: 0.3036915\ttotal: 819ms\tremaining: 345ms\n",
      "211:\tlearn: 0.3032264\ttotal: 822ms\tremaining: 341ms\n",
      "212:\tlearn: 0.3030940\ttotal: 825ms\tremaining: 337ms\n",
      "213:\tlearn: 0.3026462\ttotal: 828ms\tremaining: 333ms\n",
      "214:\tlearn: 0.3025429\ttotal: 831ms\tremaining: 329ms\n",
      "215:\tlearn: 0.3024514\ttotal: 835ms\tremaining: 325ms\n",
      "216:\tlearn: 0.3023897\ttotal: 838ms\tremaining: 320ms\n",
      "217:\tlearn: 0.3022834\ttotal: 841ms\tremaining: 316ms\n",
      "218:\tlearn: 0.3021856\ttotal: 844ms\tremaining: 312ms\n",
      "219:\tlearn: 0.3021376\ttotal: 847ms\tremaining: 308ms\n",
      "220:\tlearn: 0.3016704\ttotal: 850ms\tremaining: 304ms\n",
      "221:\tlearn: 0.3015934\ttotal: 853ms\tremaining: 300ms\n",
      "222:\tlearn: 0.3015028\ttotal: 856ms\tremaining: 296ms\n",
      "223:\tlearn: 0.3014361\ttotal: 860ms\tremaining: 292ms\n",
      "224:\tlearn: 0.3013779\ttotal: 863ms\tremaining: 288ms\n",
      "225:\tlearn: 0.3012965\ttotal: 866ms\tremaining: 284ms\n",
      "226:\tlearn: 0.3012018\ttotal: 870ms\tremaining: 280ms\n",
      "227:\tlearn: 0.3011158\ttotal: 873ms\tremaining: 276ms\n",
      "228:\tlearn: 0.3007335\ttotal: 876ms\tremaining: 271ms\n",
      "229:\tlearn: 0.3006263\ttotal: 879ms\tremaining: 267ms\n",
      "230:\tlearn: 0.3005670\ttotal: 882ms\tremaining: 263ms\n",
      "231:\tlearn: 0.3002224\ttotal: 885ms\tremaining: 259ms\n",
      "232:\tlearn: 0.3001698\ttotal: 888ms\tremaining: 255ms\n",
      "233:\tlearn: 0.3000868\ttotal: 891ms\tremaining: 251ms\n",
      "234:\tlearn: 0.2999998\ttotal: 895ms\tremaining: 247ms\n",
      "235:\tlearn: 0.2999138\ttotal: 898ms\tremaining: 243ms\n",
      "236:\tlearn: 0.2998442\ttotal: 901ms\tremaining: 239ms\n",
      "237:\tlearn: 0.2997408\ttotal: 904ms\tremaining: 235ms\n",
      "238:\tlearn: 0.2993119\ttotal: 907ms\tremaining: 232ms\n",
      "239:\tlearn: 0.2992569\ttotal: 910ms\tremaining: 228ms\n",
      "240:\tlearn: 0.2991621\ttotal: 914ms\tremaining: 224ms\n",
      "241:\tlearn: 0.2990477\ttotal: 917ms\tremaining: 220ms\n",
      "242:\tlearn: 0.2989476\ttotal: 920ms\tremaining: 216ms\n",
      "243:\tlearn: 0.2988879\ttotal: 923ms\tremaining: 212ms\n",
      "244:\tlearn: 0.2988210\ttotal: 926ms\tremaining: 208ms\n",
      "245:\tlearn: 0.2986965\ttotal: 929ms\tremaining: 204ms\n",
      "246:\tlearn: 0.2986189\ttotal: 933ms\tremaining: 200ms\n",
      "247:\tlearn: 0.2985388\ttotal: 936ms\tremaining: 196ms\n",
      "248:\tlearn: 0.2984655\ttotal: 939ms\tremaining: 192ms\n",
      "249:\tlearn: 0.2984233\ttotal: 942ms\tremaining: 188ms\n",
      "250:\tlearn: 0.2983951\ttotal: 945ms\tremaining: 184ms\n",
      "251:\tlearn: 0.2983217\ttotal: 948ms\tremaining: 181ms\n",
      "252:\tlearn: 0.2979668\ttotal: 951ms\tremaining: 177ms\n",
      "253:\tlearn: 0.2978839\ttotal: 954ms\tremaining: 173ms\n",
      "254:\tlearn: 0.2978110\ttotal: 957ms\tremaining: 169ms\n",
      "255:\tlearn: 0.2977288\ttotal: 960ms\tremaining: 165ms\n",
      "256:\tlearn: 0.2976458\ttotal: 964ms\tremaining: 161ms\n",
      "257:\tlearn: 0.2975570\ttotal: 967ms\tremaining: 157ms\n",
      "258:\tlearn: 0.2972525\ttotal: 970ms\tremaining: 154ms\n",
      "259:\tlearn: 0.2971615\ttotal: 973ms\tremaining: 150ms\n",
      "260:\tlearn: 0.2970900\ttotal: 976ms\tremaining: 146ms\n",
      "261:\tlearn: 0.2969904\ttotal: 980ms\tremaining: 142ms\n",
      "262:\tlearn: 0.2969325\ttotal: 983ms\tremaining: 138ms\n",
      "263:\tlearn: 0.2968883\ttotal: 986ms\tremaining: 134ms\n",
      "264:\tlearn: 0.2964879\ttotal: 989ms\tremaining: 131ms\n",
      "265:\tlearn: 0.2964371\ttotal: 992ms\tremaining: 127ms\n",
      "266:\tlearn: 0.2963709\ttotal: 995ms\tremaining: 123ms\n",
      "267:\tlearn: 0.2963224\ttotal: 998ms\tremaining: 119ms\n",
      "268:\tlearn: 0.2962443\ttotal: 1s\tremaining: 115ms\n",
      "269:\tlearn: 0.2957945\ttotal: 1s\tremaining: 112ms\n",
      "270:\tlearn: 0.2957172\ttotal: 1.01s\tremaining: 108ms\n",
      "271:\tlearn: 0.2956268\ttotal: 1.01s\tremaining: 104ms\n",
      "272:\tlearn: 0.2955447\ttotal: 1.01s\tremaining: 100ms\n",
      "273:\tlearn: 0.2954860\ttotal: 1.02s\tremaining: 96.5ms\n",
      "274:\tlearn: 0.2951486\ttotal: 1.02s\tremaining: 92.7ms\n",
      "275:\tlearn: 0.2950918\ttotal: 1.02s\tremaining: 89ms\n",
      "276:\tlearn: 0.2950264\ttotal: 1.03s\tremaining: 85.2ms\n",
      "277:\tlearn: 0.2949523\ttotal: 1.03s\tremaining: 81.5ms\n",
      "278:\tlearn: 0.2947291\ttotal: 1.03s\tremaining: 77.7ms\n",
      "279:\tlearn: 0.2946630\ttotal: 1.03s\tremaining: 74ms\n",
      "280:\tlearn: 0.2945507\ttotal: 1.04s\tremaining: 70.2ms\n",
      "281:\tlearn: 0.2941756\ttotal: 1.04s\tremaining: 66.5ms\n",
      "282:\tlearn: 0.2941036\ttotal: 1.04s\tremaining: 62.8ms\n",
      "283:\tlearn: 0.2940065\ttotal: 1.05s\tremaining: 59.1ms\n",
      "284:\tlearn: 0.2939016\ttotal: 1.05s\tremaining: 55.4ms\n",
      "285:\tlearn: 0.2938190\ttotal: 1.05s\tremaining: 51.6ms\n",
      "286:\tlearn: 0.2936891\ttotal: 1.06s\tremaining: 47.9ms\n",
      "287:\tlearn: 0.2936271\ttotal: 1.06s\tremaining: 44.2ms\n",
      "288:\tlearn: 0.2935828\ttotal: 1.06s\tremaining: 40.5ms\n",
      "289:\tlearn: 0.2935305\ttotal: 1.07s\tremaining: 36.8ms\n",
      "290:\tlearn: 0.2934513\ttotal: 1.07s\tremaining: 33.1ms\n",
      "291:\tlearn: 0.2932031\ttotal: 1.07s\tremaining: 29.4ms\n",
      "292:\tlearn: 0.2931324\ttotal: 1.07s\tremaining: 25.7ms\n",
      "293:\tlearn: 0.2930588\ttotal: 1.08s\tremaining: 22ms\n",
      "294:\tlearn: 0.2929840\ttotal: 1.08s\tremaining: 18.3ms\n",
      "295:\tlearn: 0.2929300\ttotal: 1.08s\tremaining: 14.7ms\n",
      "296:\tlearn: 0.2928196\ttotal: 1.09s\tremaining: 11ms\n",
      "297:\tlearn: 0.2927142\ttotal: 1.09s\tremaining: 7.33ms\n",
      "298:\tlearn: 0.2926565\ttotal: 1.09s\tremaining: 3.66ms\n",
      "299:\tlearn: 0.2925646\ttotal: 1.1s\tremaining: 0us\n"
     ]
    },
    {
     "data": {
      "text/plain": [
       "GridSearchCV(cv=10,\n",
       "             estimator=<catboost.core.CatBoostClassifier object at 0x000001DDCB8B9908>,\n",
       "             n_jobs=-1,\n",
       "             param_grid={'depth': [4, 7, 10], 'iterations': [300],\n",
       "                         'l2_leaf_reg': [1, 4, 9],\n",
       "                         'learning_rate': [0.03, 0.1, 0.15]},\n",
       "             scoring='accuracy', verbose=3)"
      ]
     },
     "execution_count": 40,
     "metadata": {},
     "output_type": "execute_result"
    }
   ],
   "source": [
    "cbc = CatBoostClassifier(random_state = 101)\n",
    "\n",
    "params = {'depth': [4, 7, 10],\n",
    "          'learning_rate' : [0.03, 0.1, 0.15],\n",
    "         'l2_leaf_reg': [1,4,9],\n",
    "         'iterations': [300]}\n",
    "\n",
    "grid_cbc = GridSearchCV(estimator = cbc,\n",
    "                       param_grid = params,\n",
    "                       n_jobs = -1,\n",
    "                       verbose = 3,\n",
    "                       scoring = 'accuracy',\n",
    "                       cv = 10)\n",
    "grid_cbc.fit(X_train,y_train)"
   ]
  },
  {
   "cell_type": "code",
   "execution_count": 41,
   "metadata": {},
   "outputs": [
    {
     "name": "stdout",
     "output_type": "stream",
     "text": [
      "<catboost.core.CatBoostClassifier object at 0x000001DDCB164A48>\n"
     ]
    }
   ],
   "source": [
    "best_cbc = grid_cbc.best_estimator_\n",
    "print(best_cbc)"
   ]
  },
  {
   "cell_type": "code",
   "execution_count": 42,
   "metadata": {},
   "outputs": [
    {
     "name": "stdout",
     "output_type": "stream",
     "text": [
      "\n",
      " Confusion Matrix : \n",
      " [[1121  164]\n",
      " [ 190 1107]]\n",
      "Accuracy   Score :  0.8628969790859798\n",
      "Precision :  0.8709677419354839\n",
      "Recall : 0.8535080956052429\n",
      "F1 Score: 0.8621495327102804\n",
      "Area under curve :  0.8629408182306371 \n",
      "\n"
     ]
    },
    {
     "data": {
      "image/png": "[encoded data removed]",
      "text/plain": [
       "<Figure size 432x288 with 1 Axes>"
      ]
     },
     "metadata": {
      "needs_background": "light"
     },
     "output_type": "display_data"
    }
   ],
   "source": [
    "pkl.dump(best_cbc, open('D:\\\\Git\\\\Telecom_Churn_Modeling\\\\Data\\\\OverSampledCatBoostModel', 'wb'))\n",
    "y_hat_cbc  = best_cbc.predict(X_test)\n",
    "y_prob_cbc = best_cbc.predict_proba(X_test)\n",
    "get_results(y_test,y_hat_cbc,y_prob_cbc)"
   ]
  },
  {
   "cell_type": "code",
   "execution_count": null,
   "metadata": {},
   "outputs": [],
   "source": []
  }
 ],
 "metadata": {
  "kernelspec": {
   "display_name": "Python 3",
   "language": "python",
   "name": "python3"
  },
  "language_info": {
   "codemirror_mode": {
    "name": "ipython",
    "version": 3
   },
   "file_extension": ".py",
   "mimetype": "text/x-python",
   "name": "python",
   "nbconvert_exporter": "python",
   "pygments_lexer": "ipython3",
   "version": "3.7.4"
  }
 },
 "nbformat": 4,
 "nbformat_minor": 2
}
